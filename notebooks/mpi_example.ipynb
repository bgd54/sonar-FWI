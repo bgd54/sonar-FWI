{
 "cells": [
  {
   "cell_type": "markdown",
   "metadata": {},
   "source": [
    "# MPI for Sonar simulation"
   ]
  },
  {
   "cell_type": "markdown",
   "metadata": {},
   "source": [
    "## Imports"
   ]
  },
  {
   "cell_type": "code",
   "execution_count": null,
   "metadata": {},
   "outputs": [],
   "source": [
    "from mpi4py import MPI\n",
    "comm = MPI.COMM_WORLD\n",
    "rank = comm.Get_rank()\n",
    "size = comm.Get_size()"
   ]
  },
  {
   "cell_type": "code",
   "execution_count": null,
   "metadata": {},
   "outputs": [],
   "source": [
    "import math\n",
    "import matplotlib.pyplot as plt\n",
    "import numpy as np\n",
    "from devito import configuration\n",
    "from devito import Eq, Operator, TimeFunction, solve\n",
    "from examples.seismic import Model, TimeAxis, WaveletSource, Receiver\n",
    "configuration['mpi'] = True\n",
    "configuration['language'] = 'C'"
   ]
  },
  {
   "cell_type": "code",
   "execution_count": null,
   "metadata": {},
   "outputs": [],
   "source": [
    "class GaborSource(WaveletSource):\n",
    "    def __init_finalize__(self, *args, **kwargs):\n",
    "        super(GaborSource, self).__init_finalize__(*args, **kwargs)\n",
    "\n",
    "    @property\n",
    "    def wavelet(self):\n",
    "        assert self.f0 is not None\n",
    "        agauss = 0.5 * self.f0\n",
    "        tcut = self.t0 or 5 / agauss\n",
    "        s = (self.time_values - tcut) * agauss\n",
    "        a = a or 1\n",
    "        return a * np.exp(-0.5 * s**2) * np.cos(2 * np.pi * s)"
   ]
  },
  {
   "cell_type": "markdown",
   "metadata": {},
   "source": [
    "## Initialization"
   ]
  },
  {
   "cell_type": "code",
   "execution_count": null,
   "metadata": {},
   "outputs": [],
   "source": [
    "domain_size = (60, 30)\n",
    "v_env = 1.5\n",
    "ns = 128\n",
    "source_distance = 0.002\n",
    "f0 = 50\n",
    "space_order = 8\n",
    "spatial_dist = round(v_env / f0 / 3, 6)\n",
    "dt = spatial_dist / 20\n",
    "\n",
    "domain_dims = (domain_size[0] / spatial_dist, domain_size[1] / spatial_dist)\n",
    "vp = np.full(domain_dims, v_env, dtype=np.float32)\n",
    "y_wall = max(int(domain_dims[1] * 0.8), round(domain_dims[1] - 5 / spatial_dist))\n",
    "vp[:, y_wall:] = 1.5"
   ]
  },
  {
   "cell_type": "code",
   "execution_count": null,
   "metadata": {},
   "outputs": [],
   "source": [
    "model = Model(\n",
    "    vp=vp,\n",
    "    origin=(0.0, 0.0),\n",
    "    shape=domain_dims,\n",
    "    spacing=(spatial_dist, spatial_dist),\n",
    "    space_order=space_order,\n",
    "    nbl=(ns - 1) / 2 * source_distance / dt,\n",
    "    bcs=\"damp\",\n",
    "    dt=dt,\n",
    "    dtype=np.float64,\n",
    ")"
   ]
  },
  {
   "cell_type": "code",
   "execution_count": null,
   "metadata": {},
   "outputs": [],
   "source": [
    "tn = math.sqrt((domain_size[0] / 2) ** 2 + domain_size[1] ** 2) * 2 / v_env + 5\n",
    "time_range = TimeAxis(start=0, stop=tn, step=dt)"
   ]
  },
  {
   "cell_type": "code",
   "execution_count": null,
   "metadata": {},
   "outputs": [],
   "source": [
    "cy = (ns - 1) / 2 * source_distance\n",
    "coordinates = np.array([(domain_size[0] - source_distance * ns) / 2, cy]) + np.linspace(\n",
    "    [0, source_distance], [ns * source_distance, source_distance], num=ns\n",
    ")\n",
    "\n",
    "src = GaborSource(\n",
    "    name=\"src\",\n",
    "    grid=model.grid,\n",
    "    npoint=ns,\n",
    "    f0=f0,\n",
    "    time_range=time_range,\n",
    "    coordinates_data=coordinates,\n",
    ")\n",
    "rec = Receiver(\n",
    "    name=\"rec\",\n",
    "    grid=model.grid,\n",
    "    time_range=time_range,\n",
    "    npoint=ns,\n",
    "    coordinates=coordinates,\n",
    ")   "
   ]
  },
  {
   "cell_type": "code",
   "execution_count": null,
   "metadata": {},
   "outputs": [],
   "source": [
    "u = TimeFunction(name=\"u\", grid=model.grid, time_order=2, space_order=space_order)\n",
    "pde = model.m * u.dt2 - u.laplace + model.damp * u.dt\n",
    "stencil = Eq(u.forward, solve(pde, u.forward))\n",
    "src_term = src.inject(field=u.forward, expr=src * dt**2 / model.m)\n",
    "rec_term = rec.interpolate(expr=u)\n",
    "op = Operator([stencil] + src_term + rec_term, subs=model.spacing_map)"
   ]
  },
  {
   "cell_type": "markdown",
   "metadata": {},
   "source": [
    "## Run simulation"
   ]
  },
  {
   "cell_type": "code",
   "execution_count": null,
   "metadata": {},
   "outputs": [],
   "source": [
    "def run_beam(src, rec, op, u, time_range, dt, alpha, v_env):\n",
    "    ns = src.coordinates.data.shape[0]\n",
    "    if alpha <= 90:\n",
    "        max_latency = (\n",
    "            np.cos(np.deg2rad(alpha)) * ((ns - 1) * source_distance / v_env) / dt\n",
    "        )\n",
    "    elif alpha > 90:\n",
    "        max_latency = np.cos(np.deg2rad(alpha)) * (source_distance / v_env) / dt\n",
    "    for i in range(ns):\n",
    "        latency = -np.cos(np.deg2rad(alpha)) * (i * source_distance / v_env)\n",
    "        src.data[:, i] = np.roll(src.data[:, i], int(latency / dt + max_latency))\n",
    "    u.data.fill(0)\n",
    "    op(time=time_range.num - 2, dt=dt)\n",
    "    \n",
    "    return rec.data"
   ]
  },
  {
   "cell_type": "code",
   "execution_count": null,
   "metadata": {},
   "outputs": [],
   "source": [
    "def run_beam_mpi(src, op, u, time_range, dt, alpha, v_env):\n",
    "    ns = src.coordinates.data.shape[0]\n",
    "    if alpha <= 90:\n",
    "        max_latency = (\n",
    "            np.cos(np.deg2rad(alpha)) * ((ns - 1) * source_distance / v_env) / dt\n",
    "        )\n",
    "    elif alpha > 90:\n",
    "        max_latency = np.cos(np.deg2rad(alpha)) * (source_distance / v_env) / dt\n",
    "        \n",
    "    all_data = comm.gather(src.data, root=0)\n",
    "    \n",
    "    if rank == 0:\n",
    "        full_data = np.concatenate(all_data, axis=1)\n",
    "        for i in range(ns):\n",
    "            latency = -np.cos(np.deg2rad(alpha)) * (i * source_distance / v_env)\n",
    "            src.data[:, i] = np.roll(src.data[:, i], int(latency / dt + max_latency))\n",
    "        divided_data = np.array_split(full_data, size, axis=1)\n",
    "    else:\n",
    "        divided_data = None\n",
    "        \n",
    "    new_data = comm.scatter(divided_data, root=0)\n",
    "    np.copyto(src.data, new_data)\n",
    "    u.data.fill(0)\n",
    "    op(time=time_range.num - 2, dt=dt)\n",
    "    \n",
    "    return rec.data"
   ]
  }
 ],
 "metadata": {
  "kernelspec": {
   "display_name": "Python 3 (ipykernel)",
   "language": "python",
   "name": "python3"
  },
  "language_info": {
   "codemirror_mode": {
    "name": "ipython",
    "version": 3
   },
   "file_extension": ".py",
   "mimetype": "text/x-python",
   "name": "python",
   "nbconvert_exporter": "python",
   "pygments_lexer": "ipython3",
   "version": "3.11.5"
  },
  "orig_nbformat": 4
 },
 "nbformat": 4,
 "nbformat_minor": 2
}
