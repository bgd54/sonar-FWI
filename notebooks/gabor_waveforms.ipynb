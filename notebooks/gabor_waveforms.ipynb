{
 "cells": [
  {
   "cell_type": "code",
   "execution_count": null,
   "metadata": {},
   "outputs": [],
   "source": [
    "import sys\n",
    "import os\n",
    "\n",
    "import numpy as np\n",
    "import numpy.typing as npt\n",
    "import matplotlib.pyplot as plt\n",
    "import matplotlib.animation as animation\n",
    "\n",
    "sys.path.insert(0, os.path.abspath(\"../cli\"))\n",
    "from simulation.sonar import Sonar\n",
    "from simulation.utils import CircleBottom, run_beam, positions_line\n",
    "from simulation.plotting import plot_velocity\n",
    "\n",
    "from examples.seismic import WaveletSource, Receiver\n",
    "\n",
    "plt.rcParams['figure.figsize'] = (5, 5)"
   ]
  },
  {
   "cell_type": "code",
   "execution_count": null,
   "metadata": {},
   "outputs": [],
   "source": [
    "class GaborSource(WaveletSource):\n",
    "    \"\"\"\n",
    "    A source object that encapsulates everything necessary for injecting a\n",
    "    Gabor source into the computational domain.\n",
    "\n",
    "    Returns:\n",
    "        The source term that will be injected into the computational domain.\n",
    "    \"\"\"\n",
    "\n",
    "    def __init_finalize__(self, *args, **kwargs):\n",
    "        super(GaborSource, self).__init_finalize__(*args, **kwargs)\n",
    "\n",
    "    @property\n",
    "    def wavelet(self):\n",
    "        assert self.f0 is not None\n",
    "        agauss = 0.5 * self.f0\n",
    "        tcut = self.t0 or 1.5 / agauss\n",
    "        s = (self.time_values - 20 * tcut) * agauss\n",
    "        a = self.a or 1\n",
    "        return a * np.exp(-0.5 * s**2) * np.cos(2 * np.pi * s)\n",
    "\n",
    "    @property\n",
    "    def signal_packet(self):\n",
    "        assert self.f0 is not None\n",
    "        return self.wavelet[: np.searchsorted(self.time_values, 4 * 2 / self.f0)]"
   ]
  },
  {
   "cell_type": "code",
   "execution_count": null,
   "metadata": {},
   "outputs": [],
   "source": [
    "v_env = 1.5\n",
    "ns = 128\n",
    "domain_size = (10, 10)\n",
    "source_distance = 0.002\n",
    "cy = cy = (ns - 1) / 2 * source_distance + source_distance\n",
    "f0 = 100"
   ]
  }
 ],
 "metadata": {
  "language_info": {
   "name": "python"
  },
  "orig_nbformat": 4
 },
 "nbformat": 4,
 "nbformat_minor": 2
}
