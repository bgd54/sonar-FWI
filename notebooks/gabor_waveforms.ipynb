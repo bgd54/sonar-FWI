{
 "cells": [
  {
   "cell_type": "code",
   "execution_count": null,
   "metadata": {},
   "outputs": [],
   "source": [
    "import sys\n",
    "import os\n",
    "import tqdm\n",
    "import copy\n",
    "\n",
    "import numpy as np\n",
    "import matplotlib.pyplot as plt\n",
    "\n",
    "\n",
    "sys.path.insert(0, os.path.abspath(\"../cli\"))\n",
    "os.environ[\"PATH\"] = '/home/shared/software/cuda/hpc_sdk-centos8/Linux_x86_64/23.1/comm_libs/mpi/bin:/home/shared/software/cuda/hpc_sdk-centos8/Linux_x86_64/23.1/compilers/bin:/home/shared/software/cuda/hpc_sdk-centos8/Linux_x86_64/23.1/cuda/bin:'+os.environ[\"PATH\"]\n",
    "os.environ[\"LD_LIBRARY_PATH\"] = '/home/shared/software/cuda/hpc_sdk-centos8/Linux_x86_64/23.1/comm_libs/nvshmem/lib:/home/shared/software/cuda/hpc_sdk-centos8/Linux_x86_64/23.1/comm_libs/nccl/lib:/home/shared/software/cuda/hpc_sdk-centos8/Linux_x86_64/23.1/comm_libs/mpi/lib:/home/shared/software/cuda/hpc_sdk-centos8/Linux_x86_64/23.1/math_libs/lib64:/home/shared/software/cuda/hpc_sdk-centos8/Linux_x86_64/23.1/compilers/lib:/home/shared/software/cuda/hpc_sdk-centos8/Linux_x86_64/23.1/cuda/lib64:'+os.environ[\"LD_LIBRARY_PATH\"]\n",
    "os.environ[\"CPATH\"] = '/home/shared/software/cuda/hpc_sdk-centos8/Linux_x86_64/23.1/comm_libs/nvshmem/include:/home/shared/software/cuda/hpc_sdk-centos8/Linux_x86_64/23.1/comm_libs/nccl/include:/home/shared/software/cuda/hpc_sdk-centos8/Linux_x86_64/23.1/comm_libs/mpi/include:/home/shared/software/cuda/hpc_sdk-centos8/Linux_x86_64/23.1/math_libs/include:/home/shared/software/cuda/hpc_sdk-centos8/Linux_x86_64/23.1/cuda/include'#+os.environ[\"CPATH\"]\n",
    "os.environ['CUDA_VISIBLE_DEVICES'] = '1'\n",
    "\n",
    "from simulation.sonar import Sonar\n",
    "from simulation.utils import (\n",
    "    FlatBottom,\n",
    "    CircleBottom,\n",
    "    EllipsisBottom,\n",
    "    positions_line,\n",
    "    positions_half_circle,\n",
    ")\n",
    "from simulation.plotting import plot_velocity, plot_snapshot_and_signal\n",
    "from simulation.sources import GaborSource \n",
    "from devito import configuration\n",
    "\n",
    "plt.rcParams[\"figure.figsize\"] = (10, 10)\n",
    "configuration['log-level'] = 'DEBUG'\n",
    "configuration['language'] = 'openacc'\n",
    "configuration['platform'] = 'nvidiaX'\n",
    "configuration['compiler'] = 'nvc'\n",
    "configuration['mpi'] = False"
   ]
  },
  {
   "cell_type": "markdown",
   "metadata": {},
   "source": [
    "### Function"
   ]
  },
  {
   "cell_type": "code",
   "execution_count": null,
   "metadata": {},
   "outputs": [],
   "source": [
    "#run a simulation in an idealised scenario - only as long as the wave does not hit the wall.\n",
    "#TODO: would be nicer to get an arrat of posy, and return an array of results\n",
    "def get_ideal_signal(\n",
    "    domain_size,\n",
    "    f0,\n",
    "    v_env,\n",
    "    sd,\n",
    "    ns,\n",
    "    posy,\n",
    "    angle,\n",
    "    dt,\n",
    "    spatial_dist,\n",
    "    space_order,\n",
    "    plot=False,\n",
    "):\n",
    "    max_distance = domain_size[1]\n",
    "    t_end = max_distance / v_env\n",
    "    s = Sonar(\n",
    "        domain_size,\n",
    "        f0,\n",
    "        v_env,\n",
    "        CircleBottom(domain_size[0] / 2, domain_size[1] / 2, domain_size[1] / 2),\n",
    "        dt=dt,\n",
    "        tn=t_end,\n",
    "        spatial_dist=spatial_dist,\n",
    "        space_order=space_order,\n",
    "    )\n",
    "    src_coord = np.array(\n",
    "        [(domain_size[0] - sd * ns) / 2, domain_size[1] / 2]\n",
    "    ) + positions_line(stop_x=ns * sd, posy=sd, n=ns)\n",
    "    \n",
    "    src_args = {\n",
    "        \"name\": \"src\",\n",
    "        \"grid\": s.model.grid,\n",
    "        \"npoint\": ns,\n",
    "        \"f0\": f0,\n",
    "        \"time_range\": s.time_range,\n",
    "        \"coordinates_data\": src_coord\n",
    "    }\n",
    "    distance = domain_size[1] / 2 * posy\n",
    "    rec_x = domain_size[0] / 2 - np.cos(np.deg2rad(angle)) * distance\n",
    "    rec_y = domain_size[1] / 2 + np.sin(np.deg2rad(angle)) * distance\n",
    "    rec_args = {\n",
    "        \"name\": \"rec\",\n",
    "        \"grid\": s.model.grid,\n",
    "        \"time_range\": s.time_range,\n",
    "        \"npoint\": 1,\n",
    "        \"coordinates\": np.array([[rec_x, rec_y]])\n",
    "    }\n",
    "    s.set_source(\"GaborSource\", src_args)\n",
    "    s.set_receiver(\"Receiver\", rec_args)\n",
    "    s.finalize()\n",
    "    s.run_beam(angle)\n",
    "    if plot:\n",
    "        plot_velocity(\n",
    "            s.model, source=s.src.coordinates.data, receiver=s.rec.coordinates.data\n",
    "        )\n",
    "        plt.plot(s.rec.data)\n",
    "    return s.rec.data[:, 0]"
   ]
  },
  {
   "attachments": {},
   "cell_type": "markdown",
   "metadata": {},
   "source": [
    "### Beamforming"
   ]
  },
  {
   "cell_type": "code",
   "execution_count": null,
   "metadata": {},
   "outputs": [],
   "source": [
    "# Simplest example - water with no object, beams at a few angles\n",
    "v_env = 1.5  # speed of sound - 1.5 km/s\n",
    "domain_size = (60, 60)  # 60m by 60m domain\n",
    "f0 = 50  # 50kHz source\n",
    "angles = [45, 60, 75, 90, 105, 120, 135]\n",
    "space_order = 8\n",
    "spatial_dist = round(v_env / f0 / 3, 6)\n",
    "dt = spatial_dist / 20  # TODO: check if this is not too small?\n",
    "sonar = Sonar(\n",
    "    domain_size,\n",
    "    f0,\n",
    "    v_env,\n",
    "    FlatBottom(),\n",
    "    space_order=space_order,\n",
    "    dt=dt,\n",
    "    spatial_dist=spatial_dist,\n",
    ")"
   ]
  },
  {
   "cell_type": "code",
   "execution_count": null,
   "metadata": {},
   "outputs": [],
   "source": [
    "ns = 128 #number of sources\n",
    "source_distance = 0.002 #separated by 2mm\n",
    "cy = (ns - 1) / 2 * source_distance + source_distance #distance from top\n",
    "\n",
    "src_coord = np.array(\n",
    "    [(domain_size[0] - source_distance * ns) / 2, cy]\n",
    ") + positions_line(stop_x=ns * source_distance, posy=source_distance, n=ns)\n",
    "\n",
    "src_args = {\n",
    "    \"name\": \"src\",\n",
    "    \"grid\": sonar.model.grid,\n",
    "    \"npoint\": ns,\n",
    "    \"f0\": f0,\n",
    "    \"time_range\": sonar.time_range,\n",
    "    \"coordinates\": src_coord,\n",
    "}\n",
    "\n",
    "rec_args = {\n",
    "    \"name\": \"rec\",\n",
    "    \"grid\": sonar.model.grid,\n",
    "    \"time_range\": sonar.time_range,\n",
    "    \"npoint\": 180,\n",
    "    \"coordinates\": positions_half_circle(domain_size[0] / 2, domain_size[1] / 2, cy, 180),\n",
    "}\n",
    "\n",
    "sonar.set_source(\"GaborSource\", src_args)\n",
    "sonar.set_receiver(\"Receiver\", rec_args)\n",
    "sonar.finalize()\n"
   ]
  },
  {
   "cell_type": "code",
   "execution_count": null,
   "metadata": {},
   "outputs": [],
   "source": [
    "print(\n",
    "    f\"The computational grid has {sonar.model.grid.shape} grid points and physical size of {sonar.model.grid.extent} m\"\n",
    ")\n",
    "print(f\"The time step is {sonar.model.critical_dt}\")\n",
    "print(f\"fs: {1 / sonar.model.critical_dt}\")\n",
    "print(f\"Spacing: {sonar.model.spacing_map}\")\n",
    "print(f\"Time range: {sonar.time_range.num}\")"
   ]
  },
  {
   "cell_type": "code",
   "execution_count": null,
   "metadata": {},
   "outputs": [],
   "source": [
    "plot_velocity(\n",
    "    sonar.model,\n",
    "    source=sonar.src.coordinates.data,\n",
    "    receiver=sonar.rec.coordinates.data,\n",
    ")\n",
    "\n",
    "plt.figure()\n",
    "plt.plot(sonar.src.time_values[:800], sonar.src.signal_packet)\n",
    "plt.xlabel(\"Time (ms)\")\n",
    "plt.ylabel(\"Amplitude\")\n",
    "ax2 = plt.gca().twiny()\n",
    "ax2.set_xlim(0, 800)\n",
    "ax2.set_xlabel(\"Timesteps\")\n",
    "plt.title(\"Emitted signal (Gabor wavelet)\")\n",
    "plt.tight_layout()\n",
    "plt.show()"
   ]
  },
  {
   "cell_type": "code",
   "execution_count": null,
   "metadata": {},
   "outputs": [],
   "source": [
    "recordings = {}\n",
    "for a in angles:\n",
    "    sonar.run_beam(a)\n",
    "    recordings[a] = copy.deepcopy(sonar.rec.data)"
   ]
  },
  {
   "cell_type": "code",
   "execution_count": null,
   "metadata": {},
   "outputs": [],
   "source": [
    "#Now we plot attenuation profiles and received signals\n",
    "fig, ax = plt.subplots(2, 7, figsize=(35, 15), gridspec_kw={\"height_ratios\": [1, 2]})\n",
    "plt.title(\"Attenuation profiles (top row), received signals (bottom row)\")\n",
    "for i, (a, r) in enumerate(recordings.items()):\n",
    "    recording = np.flip(r)\n",
    "    ax[0, i].plot(\n",
    "        np.max(np.abs(recording[:, :]), axis=0) / np.max(np.abs(recording[:, :]))\n",
    "    )\n",
    "    ax[0, i].set_xlabel(\"Degree (Receivers)\")\n",
    "    ax[0, i].set_ylabel(\"Attenuation\")\n",
    "    ax[0, i].set_title(f\"{a}°\")\n",
    "    ax[0, i].tick_params()\n",
    "\n",
    "    ax[1, i].plot(r[40000:42000, 180 - a])\n",
    "    ax[1, i].set_xlabel(\"Timestep\")\n",
    "    ax[1, i].set_ylabel(\"Amplitude\")\n",
    "fig.tight_layout()\n",
    "plt.savefig(\"output/beamforming.pdf\", bbox_inches=\"tight\", dpi=600, format=\"pdf\")"
   ]
  },
  {
   "attachments": {},
   "cell_type": "markdown",
   "metadata": {},
   "source": [
    "### Ideal signal"
   ]
  },
  {
   "cell_type": "code",
   "execution_count": null,
   "metadata": {},
   "outputs": [],
   "source": [
    "domain_size = (20, 20)\n",
    "distances = [0.25, 0.5, 0.75]\n",
    "f0 = 50\n",
    "v_env = 1.5\n",
    "space_order = 8\n",
    "spatial_dist = round(v_env / f0 / 3, 6)\n",
    "dt = spatial_dist / 20\n",
    "source_distance = 0.002\n"
   ]
  },
  {
   "cell_type": "code",
   "execution_count": null,
   "metadata": {},
   "outputs": [],
   "source": [
    "ideal_signals = {}\n",
    "angles = [45, 90]\n",
    "for a in angles:\n",
    "    for d in distances:\n",
    "        ideal_signals[(a, d)] = get_ideal_signal(\n",
    "            domain_size,\n",
    "            f0,\n",
    "            v_env,\n",
    "            source_distance,\n",
    "            ns,\n",
    "            d,\n",
    "            a,\n",
    "            dt,\n",
    "            spatial_dist,\n",
    "            space_order,\n",
    "            plot=False,\n",
    "        )"
   ]
  },
  {
   "cell_type": "code",
   "execution_count": null,
   "metadata": {},
   "outputs": [],
   "source": [
    "fig, axs = plt.subplots(2, 4, figsize=(20, 12))\n",
    "for i, angle in enumerate(angles):\n",
    "    fig.suptitle(f\"Ideal signals for angles {angles}\")\n",
    "\n",
    "    # Plot each distance for the current angle\n",
    "    axs[i, 0].plot(ideal_signals[(angle, 0.25)][3400:4400])\n",
    "    axs[i, 0].set_title(f\"Distance: {distances[0] * 20 / 2} m\")\n",
    "\n",
    "    axs[i, 1].plot(ideal_signals[(angle, 0.5)][6700:7700])\n",
    "    axs[i, 1].set_title(f\"Distance: {distances[1] * 20 / 2} m\")\n",
    "\n",
    "    axs[i, 2].plot(ideal_signals[(angle, 0.75)][10000:11000])\n",
    "    axs[i, 2].set_title(f\"Distance: {distances[2] * 20 / 2} m\")\n",
    "\n",
    "    # Plot the original signal in the last column\n",
    "    axs[i, 3].plot(sonar.src.data[:1000, 0])\n",
    "    axs[i, 3].set_title(f\"Original signal\")\n",
    "\n",
    "fig.tight_layout()\n",
    "plt.savefig(\"output/ideal_signals_combined.pdf\", bbox_inches=\"tight\", dpi=600, format=\"pdf\")"
   ]
  },
  {
   "attachments": {},
   "cell_type": "markdown",
   "metadata": {},
   "source": [
    "### Detection with correlation"
   ]
  },
  {
   "cell_type": "code",
   "execution_count": null,
   "metadata": {},
   "outputs": [],
   "source": [
    "domain_size = (60, 30)\n",
    "radius = 28\n",
    "v_env = 1.5\n",
    "ns = 128\n",
    "source_distance = 0.002\n",
    "cy = (ns - 1) / 2 * source_distance + source_distance\n",
    "f0 = 50\n",
    "space_order = 8\n",
    "spatial_dist = round(v_env / f0 / 3, 5)\n",
    "dt = spatial_dist / 20\n"
   ]
  },
  {
   "cell_type": "code",
   "execution_count": null,
   "metadata": {},
   "outputs": [],
   "source": [
    "sonar = Sonar(\n",
    "    domain_size,\n",
    "    f0,\n",
    "    v_env,\n",
    "    EllipsisBottom(True),\n",
    "    space_order=space_order,\n",
    "    dt=dt,\n",
    "    spatial_dist=spatial_dist,\n",
    ")\n",
    "sonar.set_source()\n",
    "sonar.set_receiver()\n",
    "sonar.finalize()"
   ]
  },
  {
   "cell_type": "code",
   "execution_count": null,
   "metadata": {},
   "outputs": [],
   "source": [
    "plot_velocity(\n",
    "    sonar.model, source=sonar.src.coordinates.data, receiver=sonar.rec.coordinates.data\n",
    ")"
   ]
  },
  {
   "cell_type": "code",
   "execution_count": null,
   "metadata": {},
   "outputs": [],
   "source": [
    "ideal_signal = sonar.src.signal_packet\n",
    "plt.plot(ideal_signal)\n",
    "plt.title(\"Transmitted signal\")\n",
    "plt.show()\n"
   ]
  },
  {
   "cell_type": "code",
   "execution_count": null,
   "metadata": {},
   "outputs": [],
   "source": [
    "sonar.run_beam(45)\n",
    "recording_45 = copy.deepcopy(sonar.rec.data)"
   ]
  },
  {
   "cell_type": "code",
   "execution_count": null,
   "metadata": {},
   "outputs": [],
   "source": [
    "# The emitted signal on receivers\n",
    "plt.plot(recording_45[:5000, 64])\n",
    "start_time = np.argmax(recording_45[:5000, 64])\n"
   ]
  },
  {
   "cell_type": "code",
   "execution_count": null,
   "metadata": {},
   "outputs": [],
   "source": [
    "fig, ax = plt.subplots(1, 2, figsize=(20, 10))\n",
    "ax[0].plot(ideal_signal)\n",
    "ax[1].plot(recording_45[5000:, 64])\n",
    "plt.savefig(\"output/correlation_ideal_recording.pdf\", bbox_inches=\"tight\", dpi=600, format=\"pdf\")"
   ]
  },
  {
   "cell_type": "code",
   "execution_count": null,
   "metadata": {},
   "outputs": [],
   "source": [
    "correlate = np.correlate(recording_45[5000:, 64], ideal_signal, mode=\"same\")\n",
    "plt.figure(figsize=(20, 15))\n",
    "plt.plot(correlate)\n",
    "plt.show()\n",
    "print(np.argmax(correlate))"
   ]
  },
  {
   "cell_type": "code",
   "execution_count": null,
   "metadata": {},
   "outputs": [],
   "source": [
    "peak = 5000 + correlate.argmax()\n",
    "## change the figure size\n",
    "plt.figure(figsize=(20, 15))\n",
    "plt.plot(recording_45[:, 64])\n",
    "plt.plot(peak, recording_45[peak, 64], \"o\")\n",
    "plt.show()\n",
    "plt.savefig(\"output/correlate.pdf\", bbox_inches=\"tight\", dpi=600, format=\"pdf\")"
   ]
  },
  {
   "cell_type": "code",
   "execution_count": null,
   "metadata": {},
   "outputs": [],
   "source": [
    "#TODO: this does not seem right\n",
    "distance = (peak - start_time) * sonar.model.critical_dt * v_env / 2\n",
    "print(f\"Distance: {distance} m\")\n"
   ]
  },
  {
   "attachments": {},
   "cell_type": "markdown",
   "metadata": {},
   "source": [
    "### Detect multiple angles"
   ]
  },
  {
   "cell_type": "code",
   "execution_count": null,
   "metadata": {},
   "outputs": [],
   "source": [
    "domain_size = (60, 30)\n",
    "v_env = 1.5\n",
    "ns = 128\n",
    "source_distance = 0.002\n",
    "f0 = 50\n",
    "space_order = 8\n",
    "spatial_dist = round(v_env / f0 / 3, 5)\n",
    "dt = spatial_dist / 20\n",
    "angles = [30, 45, 60, 75, 90, 105, 120, 135, 150]\n"
   ]
  },
  {
   "cell_type": "code",
   "execution_count": null,
   "metadata": {},
   "outputs": [],
   "source": [
    "obstacle = True\n",
    "v_wall = 5.64\n",
    "v_obj = 3.24\n",
    "domain_dims = (\n",
    "    round(domain_size[0] / spatial_dist),\n",
    "    round(domain_size[1] / spatial_dist),\n",
    ")\n",
    "vp = np.full(domain_dims, v_env, dtype=np.float32)\n",
    "r_obs = vp.shape[0] / 20\n",
    "a, b = vp.shape[0] / 4, vp.shape[1] - r_obs\n",
    "y, x = np.ogrid[-a : vp.shape[0] - a, -b : vp.shape[1] - b]\n",
    "vp[x * x + y * y <= r_obs * r_obs] = v_obj\n",
    "nx = domain_dims[0]\n",
    "nz = domain_dims[1]\n",
    "wall = round(nx * 0.02)\n",
    "offs = round(wall / 2)\n",
    "a = round((nx - wall) / 2)\n",
    "b = round((nz - wall) / 2)\n",
    "offs = round(wall / 2)\n",
    "x = np.arange(0, vp.shape[0])\n",
    "y = np.arange(0, vp.shape[1])\n",
    "if obstacle:\n",
    "    r = vp.shape[0] / 100\n",
    "    ox = np.arange(offs, 2 * a + offs + 1, 2 * a / 50)\n",
    "    oy = np.sqrt(1 - (ox - a - offs) ** 2 / a**2) * b + offs + b\n",
    "    for oxx, oyy in tqdm.tqdm(zip(ox, oy)):\n",
    "        mask = (y[np.newaxis, :] - oyy) ** 2 + (\n",
    "            x[:, np.newaxis] - oxx\n",
    "        ) ** 2 < r**2\n",
    "        vp[mask] = v_wall\n",
    "mask = (y[np.newaxis, :] - offs - b) ** 2 / b**2 + (\n",
    "    x[:, np.newaxis] - offs - a\n",
    ") ** 2 / a**2 > 1\n",
    "vp[mask] = v_wall\n",
    "vp[offs:-offs, :b] = v_env"
   ]
  },
  {
   "cell_type": "code",
   "execution_count": null,
   "metadata": {},
   "outputs": [],
   "source": [
    "sonar = Sonar(\n",
    "    domain_size,\n",
    "    f0,\n",
    "    v_env,\n",
    "    vp,\n",
    "    space_order=space_order,\n",
    "    dt=dt,\n",
    "    spatial_dist=spatial_dist,\n",
    ")\n",
    "\n",
    "sonar.set_source()\n",
    "sonar.set_receiver()\n",
    "sonar.finalize()"
   ]
  },
  {
   "cell_type": "code",
   "execution_count": null,
   "metadata": {},
   "outputs": [],
   "source": [
    "plot_velocity(sonar.model, source=sonar.src.coordinates.data, receiver=sonar.rec.coordinates.data)"
   ]
  },
  {
   "cell_type": "code",
   "execution_count": null,
   "metadata": {},
   "outputs": [],
   "source": [
    "ideal_signal = sonar.src.signal_packet"
   ]
  },
  {
   "cell_type": "code",
   "execution_count": null,
   "metadata": {},
   "outputs": [],
   "source": [
    "recordings = {}\n",
    "for a in angles:\n",
    "    sonar.run_beam(a)\n",
    "    recordings[a] = copy.deepcopy(sonar.rec.data)"
   ]
  },
  {
   "cell_type": "code",
   "execution_count": null,
   "metadata": {},
   "outputs": [],
   "source": [
    "cords = np.zeros((np.size(angles), 2))\n",
    "for a, v in recordings.items():\n",
    "    coordinates = np.zeros((128, 2))\n",
    "    for i in range(128):\n",
    "        start_time = np.argmax(recordings[a][:5000, i])\n",
    "        correlate = np.correlate(recordings[a][5000:, i], ideal_signal, mode=\"same\")\n",
    "        peak = 5000 + correlate.argmax()\n",
    "        distance = (\n",
    "            peak - start_time\n",
    "        ) * sonars[a].model.critical_dt * v_env / 2\n",
    "        rec_coords = sonars[a].rec.coordinates.data[i]\n",
    "        coordinates[i, 0] = rec_coords[0] - distance * np.cos(np.deg2rad(a))\n",
    "        coordinates[i, 1] = rec_coords[1] + distance * np.sin(np.deg2rad(a))\n",
    "        cords[a // 15 - 2, :] = np.mean(coordinates, axis=0)\n",
    "        "
   ]
  },
  {
   "cell_type": "code",
   "execution_count": null,
   "metadata": {},
   "outputs": [],
   "source": [
    "plot_velocity(sonar.model, sonar.src.coordinates.data, sonar.rec.coordinates.data, cords)"
   ]
  },
  {
   "attachments": {},
   "cell_type": "markdown",
   "metadata": {},
   "source": [
    "### Snapshot"
   ]
  },
  {
   "cell_type": "code",
   "execution_count": null,
   "metadata": {},
   "outputs": [],
   "source": [
    "domain_size = (60, 30)\n",
    "v_env = 1.5\n",
    "source_distance = 0.002\n",
    "ns = 128\n",
    "cy = (ns - 1) / 2 * source_distance + source_distance\n",
    "f0 = 15\n",
    "space_order = 8\n",
    "spatial_dist = round(v_env / f0 / 3, 5)\n",
    "dt = spatial_dist / 20\n"
   ]
  },
  {
   "cell_type": "code",
   "execution_count": null,
   "metadata": {},
   "outputs": [],
   "source": [
    "obstacle = True\n",
    "v_wall = 5.64\n",
    "v_obj = 3.24\n",
    "domain_dims = (\n",
    "    round(domain_size[0] / spatial_dist),\n",
    "    round(domain_size[1] / spatial_dist),\n",
    ")\n",
    "vp = np.full(domain_dims, v_env, dtype=np.float32)\n",
    "r_obs = vp.shape[0] / 20\n",
    "a, b = vp.shape[0] / 4, vp.shape[1] - r_obs\n",
    "y, x = np.ogrid[-a : vp.shape[0] - a, -b : vp.shape[1] - b]\n",
    "vp[x * x + y * y <= r_obs * r_obs] = v_obj\n",
    "nx = domain_dims[0]\n",
    "nz = domain_dims[1]\n",
    "wall = round(nx * 0.02)\n",
    "offs = round(wall / 2)\n",
    "a = round((nx - wall) / 2)\n",
    "b = round((nz - wall) / 2)\n",
    "offs = round(wall / 2)\n",
    "x = np.arange(0, vp.shape[0])\n",
    "y = np.arange(0, vp.shape[1])\n",
    "if obstacle:\n",
    "    r = vp.shape[0] / 100\n",
    "    ox = np.arange(offs, 2 * a + offs + 1, 2 * a / 50)\n",
    "    oy = np.sqrt(1 - (ox - a - offs) ** 2 / a**2) * b + offs + b\n",
    "    for oxx, oyy in tqdm.tqdm(zip(ox, oy)):\n",
    "        mask = (y[np.newaxis, :] - oyy) ** 2 + (\n",
    "            x[:, np.newaxis] - oxx\n",
    "        ) ** 2 < r**2\n",
    "        vp[mask] = v_wall\n",
    "mask = (y[np.newaxis, :] - offs - b) ** 2 / b**2 + (\n",
    "    x[:, np.newaxis] - offs - a\n",
    ") ** 2 / a**2 > 1\n",
    "vp[mask] = v_wall\n",
    "vp[offs:-offs, :b] = v_env"
   ]
  },
  {
   "cell_type": "code",
   "execution_count": null,
   "metadata": {},
   "outputs": [],
   "source": [
    "sonar = Sonar(\n",
    "    domain_size,\n",
    "    f0,\n",
    "    v_env,\n",
    "    vp,\n",
    "    source_distance=source_distance,\n",
    "    ns=ns,\n",
    "    space_order=space_order,\n",
    "    dt=dt,\n",
    "    spatial_dist=spatial_dist,\n",
    ")\n",
    "sonar.set_source()\n",
    "sonar.set_receiver()\n",
    "sonar.finalize(snapshot_delay=0.1)"
   ]
  },
  {
   "cell_type": "code",
   "execution_count": null,
   "metadata": {},
   "outputs": [],
   "source": [
    "plot_velocity(\n",
    "    sonar.model, source=sonar.src.coordinates.data, receiver=sonar.rec.coordinates.data\n",
    ")"
   ]
  },
  {
   "cell_type": "code",
   "execution_count": null,
   "metadata": {},
   "outputs": [],
   "source": [
    "sonar.run_beam(45)\n",
    "recording = copy.deepcopy(sonar.rec.data)"
   ]
  },
  {
   "cell_type": "code",
   "execution_count": null,
   "metadata": {},
   "outputs": [],
   "source": [
    "plot_snapshot_and_signal(\n",
    "    sonar.usave.data,\n",
    "    recording[:, 64],\n",
    "    sonar.model,\n",
    "    f\"output/snapshot.gif\",\n",
    "    sonar.src.coordinates.data,\n",
    "    sonar.rec.coordinates.data,\n",
    ")"
   ]
  }
 ],
 "metadata": {
  "kernelspec": {
   "display_name": "Python 3 (ipykernel)",
   "language": "python",
   "name": "python3"
  },
  "language_info": {
   "codemirror_mode": {
    "name": "ipython",
    "version": 3
   },
   "file_extension": ".py",
   "mimetype": "text/x-python",
   "name": "python",
   "nbconvert_exporter": "python",
   "pygments_lexer": "ipython3",
   "version": "3.11.6"
  },
  "orig_nbformat": 4
 },
 "nbformat": 4,
 "nbformat_minor": 2
}
