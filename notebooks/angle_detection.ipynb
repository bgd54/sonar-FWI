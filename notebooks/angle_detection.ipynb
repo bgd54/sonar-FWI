{
  "cells": [
    {
      "cell_type": "code",
      "metadata": {
        "jukit_cell_id": "OP6VRrS2cY"
      },
      "source": [
        "import sys\n",
        "import os\n",
        "sys.path.insert(0, os.path.abspath(\"../cli\"))\n",
        "from simulation.sonar import Sonar\n",
        "from simulation.utils import EllipsisBottom, FlatBottom, positions_line\n",
        "from simulation.sources import GaborSource\n",
        "from simulation.plotting import plot_velocity, plot_snapshot_and_signal\n",
        "import simulation.utils as utils\n",
        "import numpy as np\n",
        "import numpy.typing as npt\n",
        "import matplotlib.pyplot as plt\n",
        "import seaborn as sns\n",
        "import math\n",
        "\n",
        "\n",
        "def get_coord_line(num_points:int, point_distance: float,  alpha:float):\n",
        "    \"\"\"\n",
        "    Get the coordinates on a line for a given angle\n",
        "    \"\"\"\n",
        "    length = (num_points-1) * point_distance\n",
        "    dist = np.linspace(-length / 2.0, length / 2.0, num_points)\n",
        "    return np.array([dist * np.sin(np.deg2rad(alpha)), dist * np.cos(np.deg2rad(alpha))]).transpose()"
      ],
      "outputs": [],
      "execution_count": null
    },
    {
      "cell_type": "markdown",
      "metadata": {
        "jukit_cell_id": "IjmMc8RlIT"
      },
      "source": [
        "Define the domain parameters"
      ]
    },
    {
      "cell_type": "code",
      "metadata": {
        "jukit_cell_id": "KbX2chjHqu"
      },
      "source": [
        "domain_size = (3, 6) # (m, m)\n",
        "v_env = 1.5 # km/s\n",
        "\n",
        "ns = 128 # number of sources\n",
        "f0 = 50 # kHz\n",
        "source_cy = .5 # center depth of sources (m)\n",
        "rec_cy = 2 # center depth of receivers (m)\n",
        "\n",
        "spatial_dist = 0.002 # m\n",
        "source_distance = 0.002 # m\n",
        "\n",
        "angles = [45, 60, 75, 90, 105, 120, 135] "
      ],
      "outputs": [],
      "execution_count": null
    },
    {
      "cell_type": "markdown",
      "metadata": {
        "jukit_cell_id": "pBlxvRTWeB"
      },
      "source": [
        "Create sonars for each angle"
      ]
    },
    {
      "cell_type": "code",
      "metadata": {
        "jukit_cell_id": "f004coAbvi"
      },
      "source": [
        "sonars = {\n",
        "    a: Sonar(\n",
        "        domain_size,\n",
        "        f0,\n",
        "        v_env,\n",
        "        FlatBottom(),\n",
        "        dt=None,\n",
        "        spatial_dist=spatial_dist,\n",
        "        tn=4,\n",
        "        nbl=100,\n",
        "    )\n",
        "    for a in angles\n",
        "}\n",
        "\n",
        "src_coord = np.array(\n",
        "    [(domain_size[0] - source_distance * ns) / 2, source_cy]\n",
        ") + positions_line(stop_x=ns * source_distance, posy=0, n=ns)\n",
        "\n",
        "src_args = {\n",
        "    a: {\n",
        "    \"name\": \"src\",\n",
        "    \"grid\": sonars[a].model.grid,\n",
        "    \"npoint\": ns,\n",
        "    \"f0\": f0,\n",
        "    \"time_range\": sonars[a].time_range,\n",
        "    \"coordinates\": src_coord,\n",
        "    }  \n",
        "    for a in angles \n",
        "}\n",
        "\n",
        "rec_args = {\n",
        "    a: {\n",
        "    \"name\": \"rec\",\n",
        "    \"grid\": sonars[a].model.grid,\n",
        "    \"time_range\": sonars[a].time_range,\n",
        "    \"npoint\": ns,\n",
        "    \"coordinates\": get_coord_line(ns, source_distance, a) + np.array([domain_size[0] / 2, 4]),\n",
        "    }\n",
        "    for a in angles\n",
        "}\n",
        "\n",
        "for a, s in sonars.items():\n",
        "    s.set_source(\"GaborSource\", src_args[a])\n",
        "    s.set_receiver(\"Receiver\", rec_args[a])\n",
        "    s.finalize()"
      ],
      "outputs": [],
      "execution_count": null
    },
    {
      "cell_type": "markdown",
      "metadata": {
        "jukit_cell_id": "Jhrv5ahZow"
      },
      "source": [
        "Run simulation for each angle"
      ]
    },
    {
      "cell_type": "code",
      "metadata": {
        "jukit_cell_id": "qnjI6o4nRm"
      },
      "source": [
        "recordings = {}\n",
        "\n",
        "for a, s in sonars.items():\n",
        "    print(f\"Running simulation at {a} deg\")\n",
        "    s.run_beam(alpha = 90)\n",
        "    recordings[a] = s.rec.data"
      ],
      "outputs": [],
      "execution_count": null
    },
    {
      "cell_type": "code",
      "metadata": {
        "jukit_cell_id": "YZhF1g6W3H"
      },
      "source": [
        "def correlate(recording:npt.NDArray, ideal_signal:npt.NDArray, start_iter: int = 5000) -> int:\n",
        "    \"\"\"\n",
        "    Correlate the recording with the ideal signal and return the index of the peak.\n",
        "\n",
        "    Args:\n",
        "        recording: The recording of a single receiver to correlate with the ideal signal.\n",
        "        ideal_signal: The ideal signal.\n",
        "        start_iter: The index to start the search from.\n",
        "\n",
        "    Returns:\n",
        "        The index of the peak.\n",
        "    \"\"\"\n",
        "    assert recording.shape[0] > 5000\n",
        "    correlate = np.correlate(recording[start_iter:], ideal_signal, mode=\"same\")\n",
        "    peak = start_iter + correlate.argmax()\n",
        "    return peak\n",
        "\n",
        "def get_peaks(recording: npt.NDArray, ideal_signal: npt.NDArray) -> npt.NDArray[np.int_]:\n",
        "    peaks = np.zeros(recording.shape[1], dtype=int)\n",
        "    for i in range(recording.shape[1]):\n",
        "        peaks[i] = int(correlate(recording[:, i], ideal_signal))\n",
        "    return peaks\n",
        "\n",
        "peaks ={}\n",
        "for a, r in recordings.items():\n",
        "    peaks[a] = get_peaks(recordings[a], sonars[a].src.signal_packet)"
      ],
      "outputs": [],
      "execution_count": null
    },
    {
      "cell_type": "code",
      "metadata": {
        "jukit_cell_id": "qiGvkQUSy2"
      },
      "source": [
        "def iters2dist(stop_iter: int, dt: float, v_env: float = 1500, start_iter: int = 0) -> float:\n",
        "    \"\"\"\n",
        "    Convert the index to distance.\n",
        "\n",
        "    Args:\n",
        "        end_iter: The index of a time iteration.\n",
        "        dt: The time step (s).\n",
        "        v_env: The velocity of the environment (m/s).\n",
        "        start_iter: The index when the signal is sent.\n",
        "\n",
        "    Returns:\n",
        "        The distance (m).\n",
        "    \"\"\"\n",
        "    return (stop_iter - start_iter) * dt * v_env\n",
        "\n",
        "def peaks2alpha(peaks: npt.NDArray[np.int_], dt: float, ds: float) -> float:\n",
        "    \"\"\"\n",
        "    Compute approximate direction of the incoming signal from the index of the timesteps peaks are detected by the recievers.\n",
        "    \n",
        "    Args:\n",
        "        peaks: The index of the timesteps peaks are detected by the recievers.\n",
        "        dt: The time step (s).\n",
        "        ds: The distance between the receivers (m).\n",
        "\n",
        "    Returns:\n",
        "        The approximate direction of the incoming signal (deg).\n",
        "    \"\"\"\n",
        "    alphas = np.zeros((peaks.shape[0] - 10))\n",
        "    for i in range(alphas.shape[0]):\n",
        "        end_rec = min(i + 10, peaks.shape[0] - 1)\n",
        "        alphas[i] = np.rad2deg(\n",
        "            np.arccos(\n",
        "                iters2dist(peaks[end_rec], dt=dt * 1e-3, start_iter=peaks[i])\n",
        "                / ((end_rec - i) * ds)\n",
        "            )\n",
        "        )\n",
        "    return np.nanmean(alphas)\n",
        "\n",
        "def plot_peaks_alpha(allpeaks, dt, ds) -> None:\n",
        "    alphas = {}\n",
        "    for alpha, peaks in allpeaks.items():\n",
        "        alphas[alpha] = {\n",
        "            \"neighbors\": np.zeros((peaks.shape[0] - 1)),\n",
        "            \"window10\": np.zeros((peaks.shape[0] - 1)),\n",
        "        }\n",
        "        for i in range(peaks.shape[0] - 1):\n",
        "            alphas[alpha][\"neighbors\"][i] = np.rad2deg(\n",
        "                np.arccos(\n",
        "                    iters2dist(peaks[i + 1], dt=dt * 1e-3, start_iter=peaks[i]) / ds\n",
        "                )\n",
        "            )\n",
        "            start_rec = max(0, i - 5)\n",
        "            end_rec = min(i + 5, peaks.shape[0] - 1)\n",
        "            alphas[alpha][\"window10\"][i] = np.rad2deg(\n",
        "                np.arccos(\n",
        "                    iters2dist(\n",
        "                        peaks[end_rec], dt=dt * 1e-3, start_iter=peaks[start_rec]\n",
        "                    )\n",
        "                    / ((end_rec - start_rec) * ds)\n",
        "                )\n",
        "            )\n",
        "\n",
        "    _, axes = plt.subplots(int(len(alphas.keys()) / 2 + 1), 2, figsize=(12, 12))\n",
        "    sns.lineplot(allpeaks, dashes=False, ax=axes[0, 0])\n",
        "    for i, alpha in enumerate(alphas.keys()):\n",
        "        sns.lineplot(alphas[alpha], ax=axes[math.floor((1 + i) / 2), (1 + i) % 2])\n",
        "        axes[math.floor((1 + i) / 2), (1 + i) % 2].set_title(\n",
        "            f\"alpha = {alpha} deg {alphas[alpha]['neighbors'].mean():.2f} deg {alphas[alpha]['window10'].mean():.2f} deg\"\n",
        "        )\n",
        "    plt.tight_layout()\n",
        "    plt.savefig(\"alpha.png\")\n",
        "    plt.show()\n",
        "\n",
        "plot_peaks_alpha(peaks, sonars[angles[0]].model.critical_dt, source_distance)\n",
        "\n",
        "for alpha, p in peaks.items():\n",
        "    print(\n",
        "        f\"alpha = {alpha} deg, mean = {peaks2alpha(p, sonars[angles[0]].model.critical_dt, source_distance):.2f} deg\"\n",
        "    )"
      ],
      "outputs": [],
      "execution_count": null
    },
    {
      "cell_type": "markdown",
      "metadata": {
        "jukit_cell_id": "UzHgMbZIif"
      },
      "source": [
        "Measure with actual echoes"
      ]
    },
    {
      "cell_type": "code",
      "metadata": {
        "jukit_cell_id": "ue5BNaVCQ2"
      },
      "source": [
        "domain_size = (6, 3) # (m, m)\n",
        "angles = [45, 60, 90, 105, 135] \n",
        "\n",
        "sonars = {\n",
        "    a: Sonar(\n",
        "        domain_size,\n",
        "        f0,\n",
        "        v_env,\n",
        "        EllipsisBottom(True),\n",
        "        dt=None,\n",
        "        spatial_dist=spatial_dist,\n",
        "        nbl=100,\n",
        "    )\n",
        "    for a in angles\n",
        "}\n",
        "\n",
        "src_coord = np.array(\n",
        "    [(domain_size[0] - source_distance * ns) / 2, source_cy]\n",
        ") + positions_line(stop_x=ns * source_distance, posy=0, n=ns)\n",
        "\n",
        "src_args = {\n",
        "    a: {\n",
        "    \"name\": \"src\",\n",
        "    \"grid\": sonars[a].model.grid,\n",
        "    \"npoint\": ns,\n",
        "    \"f0\": f0,\n",
        "    \"time_range\": sonars[a].time_range,\n",
        "    \"coordinates\": src_coord,\n",
        "    }  \n",
        "    for a in angles \n",
        "}\n",
        "\n",
        "rec_args = {\n",
        "    a: {\n",
        "    \"name\": \"rec\",\n",
        "    \"grid\": sonars[a].model.grid,\n",
        "    \"time_range\": sonars[a].time_range,\n",
        "    \"npoint\": ns,\n",
        "    \"coordinates\": src_coord,\n",
        "    }\n",
        "    for a in angles\n",
        "}\n",
        "\n",
        "for a, s in sonars.items():\n",
        "    s.set_source(\"GaborSource\", src_args[a])\n",
        "    s.set_receiver(\"Receiver\", rec_args[a])\n",
        "    s.finalize()\n",
        "\n",
        "print(f\"Sonar domain: {domain_size}, spatial discretization: {spatial_dist} {sonars[angles[0]].model.vp.shape}, time discretization: {sonars[angles[0]].dt}, time: {sonars[angles[0]].time_range}\")"
      ],
      "outputs": [],
      "execution_count": null
    },
    {
      "cell_type": "code",
      "metadata": {
        "jukit_cell_id": "UVPJ0uRdEo"
      },
      "source": [
        "recordings = {}\n",
        "\n",
        "for a, s in sonars.items():\n",
        "    print(f\"Running simulation at {a} deg\")\n",
        "    s.run_beam(alpha = a)\n",
        "    recordings[a] = s.rec.data\n",
        "\n",
        "\n",
        "peaks ={}\n",
        "for a, r in recordings.items():\n",
        "    peaks[a] = get_peaks(recordings[a], sonars[a].src.signal_packet)\n",
        "\n",
        "\n",
        "plot_peaks_alpha(peaks, sonars[angles[0]].model.critical_dt, source_distance)\n",
        "\n",
        "for alpha, p in peaks.items():\n",
        "    print(\n",
        "        f\"alpha = {alpha} deg, mean = {peaks2alpha(p, sonars[angles[0]].model.critical_dt, source_distance):.2f} deg\"\n",
        "    )"
      ],
      "outputs": [],
      "execution_count": null
    }
  ],
  "metadata": {
    "anaconda-cloud": {},
    "kernelspec": {
      "display_name": "python",
      "language": "python",
      "name": "python3"
    }
  },
  "nbformat": 4,
  "nbformat_minor": 4
}