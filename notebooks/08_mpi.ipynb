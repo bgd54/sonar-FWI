{
 "cells": [
  {
   "cell_type": "markdown",
   "metadata": {},
   "source": [
    "# MPI for Sonar simulation"
   ]
  },
  {
   "cell_type": "markdown",
   "metadata": {},
   "source": [
    "## Imports"
   ]
  },
  {
   "cell_type": "code",
   "execution_count": 1,
   "metadata": {},
   "outputs": [],
   "source": [
    "import ipyparallel as ipp\n",
    "c = ipp.Client(profile='mpi')"
   ]
  },
  {
   "cell_type": "code",
   "execution_count": 2,
   "metadata": {},
   "outputs": [
    {
     "name": "stdout",
     "output_type": "stream",
     "text": [
      "[stdout:0] \n",
      "Hi, I'm rank 0\n",
      "[stdout:1] \n",
      "Hi, I'm rank 1\n"
     ]
    }
   ],
   "source": [
    "%%px --no-stream --group-outputs=engine\n",
    "\n",
    "from mpi4py import MPI\n",
    "comm = MPI.COMM_WORLD\n",
    "rank = comm.Get_rank()\n",
    "size = comm.Get_size()\n",
    "print(f\"Hi, I'm rank {rank}\")"
   ]
  },
  {
   "cell_type": "code",
   "execution_count": 3,
   "metadata": {},
   "outputs": [
    {
     "name": "stdout",
     "output_type": "stream",
     "text": [
      "%px: 100%|██████████| 2/2 [00:04<00:00,  2.07s/tasks]\n"
     ]
    }
   ],
   "source": [
    "%%px --no-stream --group-outputs=engine\n",
    "\n",
    "import sys\n",
    "import os\n",
    "import matplotlib.pyplot as plt\n",
    "import numpy as np\n",
    "\n",
    "sys.path.insert(0, os.path.abspath('/home/hajta2/sonar/sonar-FWI/cli/'))\n",
    "from simulation.sonar import Sonar\n",
    "from simulation.utils import EllipsisBottom, gen_velocity_profile\n",
    "from simulation.sources import GaborSource"
   ]
  },
  {
   "cell_type": "code",
   "execution_count": 4,
   "metadata": {},
   "outputs": [],
   "source": [
    "%%px --no-stream --group-outputs=engine\n",
    "from devito import configuration\n",
    "configuration['mpi'] = True\n",
    "configuration['language'] = 'openacc'\n",
    "configuration['platform'] = 'nvidiaX'\n",
    "configuration['log-level'] = 'DEBUG'\n",
    "os.environ['DEVITO_ARCH'] = 'nvc'"
   ]
  },
  {
   "cell_type": "markdown",
   "metadata": {},
   "source": [
    "## Initialization"
   ]
  },
  {
   "cell_type": "code",
   "execution_count": 5,
   "metadata": {},
   "outputs": [],
   "source": [
    "%%px --no-stream --group-outputs=engine\n",
    "\n",
    "domain_size = (60, 30)\n",
    "v_env = 1.5\n",
    "ns = 128\n",
    "source_distance = 0.002\n",
    "f0 = 50\n",
    "space_order = 8\n",
    "spatial_dist = round(v_env / f0 / 3, 3)\n",
    "dt = spatial_dist / 20"
   ]
  },
  {
   "cell_type": "code",
   "execution_count": 6,
   "metadata": {},
   "outputs": [
    {
     "name": "stdout",
     "output_type": "stream",
     "text": [
      "%px: 100%|██████████| 2/2 [00:11<00:00,  5.67s/tasks]\n"
     ]
    },
    {
     "name": "stderr",
     "output_type": "stream",
     "text": [
      "[stderr:0] \n",
      "51it [00:12,  3.96it/s]\n",
      "[stderr:1] \n",
      "51it [00:08,  6.22it/s]\n"
     ]
    }
   ],
   "source": [
    "%%px --no-stream --group-outputs=engine\n",
    "\n",
    "domain_dims = (\n",
    "    round(domain_size[0] / spatial_dist),\n",
    "    round(domain_size[1] / spatial_dist),\n",
    ")\n",
    "vp = gen_velocity_profile(EllipsisBottom(True), domain_dims, spatial_dist, v_water = v_env)"
   ]
  },
  {
   "cell_type": "code",
   "execution_count": 8,
   "metadata": {},
   "outputs": [
    {
     "name": "stdout",
     "output_type": "stream",
     "text": [
      "%px: 100%|██████████| 2/2 [00:05<00:00,  2.86s/tasks]\n"
     ]
    },
    {
     "name": "stderr",
     "output_type": "stream",
     "text": [
      "[stderr:None] \n",
      "Operator `initdamp` generated in 1.60 s\n",
      "  * lowering.Clusters: 0.79 s (49.7 %)\n",
      "     * specializing.Clusters: 0.58 s (36.5 %)\n",
      "        * fuse: 0.32 s (20.2 %)\n",
      "  * lowering.IET: 0.60 s (37.8 %)\n",
      "     * specializing.IET: 0.46 s (29.0 %)\n",
      "Flops reduction after symbolic optimization: [72 --> 72]\n",
      "Operator `initdamp` fetched `/tmp/devito-jitcache-uid543800090/8d9e41fc7b2cd6b76f6b35ddf7489f2d48c80977.c` in 0.50 s from jit-cache\n",
      "Operator `initdamp` generated in 0.67 s\n",
      "  * lowering.Clusters: 0.35 s (53.0 %)\n",
      "     * specializing.Clusters: 0.27 s (40.9 %)\n",
      "        * fuse: 0.16 s (24.3 %)\n",
      "  * lowering.IET: 0.23 s (34.9 %)\n",
      "     * specializing.IET: 0.18 s (27.3 %)\n",
      "Flops reduction after symbolic optimization: [72 --> 72]\n",
      "Operator `initdamp` fetched `/tmp/devito-jitcache-uid543800090/8d9e41fc7b2cd6b76f6b35ddf7489f2d48c80977.c` in 0.25 s from jit-cache\n"
     ]
    },
    {
     "ename": "CompositeError",
     "evalue": "one or more exceptions raised in: %px\n[Engine Exception]EngineError: Engine 0 died while running task 'f6b86f14-c60c2d8f1f99833150730b3e_209416_13'\n[Engine Exception]EngineError: Engine 1 died while running task 'f6b86f14-c60c2d8f1f99833150730b3e_209416_14'",
     "output_type": "error",
     "traceback": [
      "[Engine Exception]:",
      "Traceback (most recent call last):",
      "",
      "  File \"/home/hajta2/software/miniconda3/envs/devito/lib/python3.11/site-packages/ipyparallel/client/client.py\", line 885, in _handle_stranded_msgs",
      "    raise error.EngineError(",
      "",
      "ipyparallel.error.EngineError: Engine 0 died while running task 'f6b86f14-c60c2d8f1f99833150730b3e_209416_13'",
      "",
      "[Engine Exception]:",
      "Traceback (most recent call last):",
      "",
      "  File \"/home/hajta2/software/miniconda3/envs/devito/lib/python3.11/site-packages/ipyparallel/client/client.py\", line 885, in _handle_stranded_msgs",
      "    raise error.EngineError(",
      "",
      "ipyparallel.error.EngineError: Engine 1 died while running task 'f6b86f14-c60c2d8f1f99833150730b3e_209416_14'",
      ""
     ]
    }
   ],
   "source": [
    "%%px --no-stream --group-outputs=engine\n",
    "\n",
    "from examples.seismic import Model\n",
    "model = Model(\n",
    "    vp=vp,\n",
    "    origin=(0.0, 0.0),\n",
    "    spacing=(spatial_dist, spatial_dist),\n",
    "    shape=domain_dims,\n",
    "    space_order=space_order,\n",
    "    nbl=(ns - 1) / 2 * source_distance / dt,\n",
    "    bcs=\"damp\",\n",
    "    dt=dt,\n",
    "    dtype=np.float64,\n",
    ")"
   ]
  }
 ],
 "metadata": {
  "kernelspec": {
   "display_name": "Python 3 (ipykernel)",
   "language": "python",
   "name": "python3"
  },
  "language_info": {
   "codemirror_mode": {
    "name": "ipython",
    "version": 3
   },
   "file_extension": ".py",
   "mimetype": "text/x-python",
   "name": "python",
   "nbconvert_exporter": "python",
   "pygments_lexer": "ipython3",
   "version": "3.11.3"
  },
  "orig_nbformat": 4
 },
 "nbformat": 4,
 "nbformat_minor": 2
}
