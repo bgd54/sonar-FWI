{
 "cells": [
  {
   "cell_type": "markdown",
   "metadata": {},
   "source": [
    "# MPI for Sonar simulation"
   ]
  },
  {
   "cell_type": "markdown",
   "metadata": {},
   "source": [
    "## Imports"
   ]
  },
  {
   "cell_type": "code",
   "execution_count": 1,
   "metadata": {},
   "outputs": [],
   "source": [
    "import ipyparallel as ipp\n",
    "c = ipp.Client(profile='mpi')"
   ]
  },
  {
   "cell_type": "code",
   "execution_count": 2,
   "metadata": {},
   "outputs": [
    {
     "name": "stdout",
     "output_type": "stream",
     "text": [
      "[stdout:0] \n",
      "Hi, I'm rank 0\n",
      "[stdout:1] \n",
      "Hi, I'm rank 1\n"
     ]
    }
   ],
   "source": [
    "%%px --no-stream --group-outputs=engine\n",
    "\n",
    "from mpi4py import MPI\n",
    "comm = MPI.COMM_WORLD\n",
    "rank = comm.Get_rank()\n",
    "size = comm.Get_size()\n",
    "print(f\"Hi, I'm rank {rank}\")"
   ]
  },
  {
   "cell_type": "code",
   "execution_count": 3,
   "metadata": {},
   "outputs": [],
   "source": [
    "%%px --no-stream --group-outputs=engine\n",
    "\n",
    "import sys\n",
    "import os\n",
    "import matplotlib.pyplot as plt\n",
    "import numpy as np\n",
    "\n",
    "sys.path.insert(0, os.path.abspath('/home/hajta2/study/sonar-FWI/cli/'))\n",
    "from simulation.sonar import Sonar\n",
    "from simulation.utils import EllipsisBottom, gen_velocity_profile\n",
    "from simulation.sources import GaborSource"
   ]
  },
  {
   "cell_type": "code",
   "execution_count": 4,
   "metadata": {},
   "outputs": [],
   "source": [
    "%%px --no-stream --group-outputs=engine\n",
    "from devito import configuration\n",
    "configuration['mpi'] = True\n",
    "configuration['language'] = 'C'\n",
    "# configuration['platform'] = 'nvidiaX'\n",
    "# configuration['log-level'] = 'DEBUG'\n",
    "# os.environ['DEVITO_ARCH'] = 'nvc'"
   ]
  },
  {
   "cell_type": "markdown",
   "metadata": {},
   "source": [
    "## Initialization"
   ]
  },
  {
   "cell_type": "code",
   "execution_count": 5,
   "metadata": {},
   "outputs": [],
   "source": [
    "%%px --no-stream --group-outputs=engine\n",
    "\n",
    "domain_size = (60, 30)\n",
    "v_env = 1.5\n",
    "ns = 128\n",
    "source_distance = 0.002\n",
    "f0 = 5\n",
    "space_order = 8\n",
    "spatial_dist = round(v_env / f0 / 3, 3)\n",
    "dt = spatial_dist / 20"
   ]
  },
  {
   "cell_type": "code",
   "execution_count": 6,
   "metadata": {},
   "outputs": [
    {
     "name": "stderr",
     "output_type": "stream",
     "text": [
      "[stderr:0] \n",
      "51it [00:00, 1390.49it/s]\n",
      "Operator `initdamp` ran in 0.01 s\n",
      "[stderr:1] \n",
      "51it [00:00, 1351.84it/s]\n",
      "Operator `initdamp` ran in 0.01 s\n"
     ]
    }
   ],
   "source": [
    "%%px --no-stream --group-outputs=engine\n",
    "\n",
    "sonar = Sonar(domain_size, f0, v_env, EllipsisBottom(True), source_distance=source_distance, ns=ns, spatial_dist=spatial_dist)"
   ]
  },
  {
   "cell_type": "code",
   "execution_count": 7,
   "metadata": {},
   "outputs": [
    {
     "data": {
      "application/vnd.jupyter.widget-view+json": {
       "model_id": "7027865b02cb4a8998e06ca3f9e5992b",
       "version_major": 2,
       "version_minor": 0
      },
      "text/plain": [
       "%px:   0%|          | 0/2 [00:00<?, ?tasks/s]"
      ]
     },
     "metadata": {},
     "output_type": "display_data"
    }
   ],
   "source": [
    "%%px --no-stream --group-outputs=engine\n",
    "\n",
    "sonar.set_source()\n",
    "sonar.finalize()"
   ]
  },
  {
   "cell_type": "code",
   "execution_count": 8,
   "metadata": {},
   "outputs": [
    {
     "data": {
      "text/plain": [
       "\u001b[0;31mOut[0:7]: \u001b[0m\n",
       "Data([[29.872     ,  0.129     ],\n",
       "      [29.87401575,  0.129     ],\n",
       "      [29.8760315 ,  0.129     ],\n",
       "      [29.87804724,  0.129     ],\n",
       "      [29.88006299,  0.129     ],\n",
       "      [29.88207874,  0.129     ],\n",
       "      [29.88409449,  0.129     ],\n",
       "      [29.88611024,  0.129     ],\n",
       "      [29.88812598,  0.129     ],\n",
       "      [29.89014173,  0.129     ],\n",
       "      [29.89215748,  0.129     ],\n",
       "      [29.89417323,  0.129     ],\n",
       "      [29.89618898,  0.129     ],\n",
       "      [29.89820472,  0.129     ],\n",
       "      [29.90022047,  0.129     ],\n",
       "      [29.90223622,  0.129     ],\n",
       "      [29.90425197,  0.129     ],\n",
       "      [29.90626772,  0.129     ],\n",
       "      [29.90828346,  0.129     ],\n",
       "      [29.91029921,  0.129     ],\n",
       "      [29.91231496,  0.129     ],\n",
       "      [29.91433071,  0.129     ],\n",
       "      [29.91634646,  0.129     ],\n",
       "      [29.9183622 ,  0.129     ],\n",
       "      [29.92037795,  0.129     ],\n",
       "      [29.9223937 ,  0.129     ],\n",
       "      [29.92440945,  0.129     ],\n",
       "      [29.9264252 ,  0.129     ],\n",
       "      [29.92844094,  0.129     ],\n",
       "      [29.93045669,  0.129     ],\n",
       "      [29.93247244,  0.129     ],\n",
       "      [29.93448819,  0.129     ],\n",
       "      [29.93650394,  0.129     ],\n",
       "      [29.93851969,  0.129     ],\n",
       "      [29.94053543,  0.129     ],\n",
       "      [29.94255118,  0.129     ],\n",
       "      [29.94456693,  0.129     ],\n",
       "      [29.94658268,  0.129     ],\n",
       "      [29.94859843,  0.129     ],\n",
       "      [29.95061417,  0.129     ],\n",
       "      [29.95262992,  0.129     ],\n",
       "      [29.95464567,  0.129     ],\n",
       "      [29.95666142,  0.129     ],\n",
       "      [29.95867717,  0.129     ],\n",
       "      [29.96069291,  0.129     ],\n",
       "      [29.96270866,  0.129     ],\n",
       "      [29.96472441,  0.129     ],\n",
       "      [29.96674016,  0.129     ],\n",
       "      [29.96875591,  0.129     ],\n",
       "      [29.97077165,  0.129     ],\n",
       "      [29.9727874 ,  0.129     ],\n",
       "      [29.97480315,  0.129     ],\n",
       "      [29.9768189 ,  0.129     ],\n",
       "      [29.97883465,  0.129     ],\n",
       "      [29.98085039,  0.129     ],\n",
       "      [29.98286614,  0.129     ],\n",
       "      [29.98488189,  0.129     ],\n",
       "      [29.98689764,  0.129     ],\n",
       "      [29.98891339,  0.129     ],\n",
       "      [29.99092913,  0.129     ],\n",
       "      [29.99294488,  0.129     ],\n",
       "      [29.99496063,  0.129     ],\n",
       "      [29.99697638,  0.129     ],\n",
       "      [29.99899213,  0.129     ]])"
      ]
     },
     "metadata": {
      "after": null,
      "completed": null,
      "data": {},
      "engine_id": 0,
      "engine_uuid": "5ff97c89-ddba27d8676534915e8a5932",
      "error": null,
      "execute_input": "\nsonar.src.coordinates.data\n",
      "execute_result": {
       "data": {
        "text/plain": "Data([[29.872     ,  0.129     ],\n      [29.87401575,  0.129     ],\n      [29.8760315 ,  0.129     ],\n      [29.87804724,  0.129     ],\n      [29.88006299,  0.129     ],\n      [29.88207874,  0.129     ],\n      [29.88409449,  0.129     ],\n      [29.88611024,  0.129     ],\n      [29.88812598,  0.129     ],\n      [29.89014173,  0.129     ],\n      [29.89215748,  0.129     ],\n      [29.89417323,  0.129     ],\n      [29.89618898,  0.129     ],\n      [29.89820472,  0.129     ],\n      [29.90022047,  0.129     ],\n      [29.90223622,  0.129     ],\n      [29.90425197,  0.129     ],\n      [29.90626772,  0.129     ],\n      [29.90828346,  0.129     ],\n      [29.91029921,  0.129     ],\n      [29.91231496,  0.129     ],\n      [29.91433071,  0.129     ],\n      [29.91634646,  0.129     ],\n      [29.9183622 ,  0.129     ],\n      [29.92037795,  0.129     ],\n      [29.9223937 ,  0.129     ],\n      [29.92440945,  0.129     ],\n      [29.9264252 ,  0.129     ],\n      [29.92844094,  0.129     ],\n      [29.93045669,  0.129     ],\n      [29.93247244,  0.129     ],\n      [29.93448819,  0.129     ],\n      [29.93650394,  0.129     ],\n      [29.93851969,  0.129     ],\n      [29.94053543,  0.129     ],\n      [29.94255118,  0.129     ],\n      [29.94456693,  0.129     ],\n      [29.94658268,  0.129     ],\n      [29.94859843,  0.129     ],\n      [29.95061417,  0.129     ],\n      [29.95262992,  0.129     ],\n      [29.95464567,  0.129     ],\n      [29.95666142,  0.129     ],\n      [29.95867717,  0.129     ],\n      [29.96069291,  0.129     ],\n      [29.96270866,  0.129     ],\n      [29.96472441,  0.129     ],\n      [29.96674016,  0.129     ],\n      [29.96875591,  0.129     ],\n      [29.97077165,  0.129     ],\n      [29.9727874 ,  0.129     ],\n      [29.97480315,  0.129     ],\n      [29.9768189 ,  0.129     ],\n      [29.97883465,  0.129     ],\n      [29.98085039,  0.129     ],\n      [29.98286614,  0.129     ],\n      [29.98488189,  0.129     ],\n      [29.98689764,  0.129     ],\n      [29.98891339,  0.129     ],\n      [29.99092913,  0.129     ],\n      [29.99294488,  0.129     ],\n      [29.99496063,  0.129     ],\n      [29.99697638,  0.129     ],\n      [29.99899213,  0.129     ]])"
       },
       "execution_count": 7,
       "metadata": {}
      },
      "follow": null,
      "msg_id": null,
      "outputs": [],
      "received": null,
      "started": null,
      "status": null,
      "stderr": "",
      "stdout": "",
      "submitted": "2023-10-04T20:23:00.140279Z"
     },
     "output_type": "display_data"
    },
    {
     "data": {
      "text/plain": [
       "\u001b[0;31mOut[1:7]: \u001b[0m\n",
       "Data([[30.00100787,  0.129     ],\n",
       "      [30.00302362,  0.129     ],\n",
       "      [30.00503937,  0.129     ],\n",
       "      [30.00705512,  0.129     ],\n",
       "      [30.00907087,  0.129     ],\n",
       "      [30.01108661,  0.129     ],\n",
       "      [30.01310236,  0.129     ],\n",
       "      [30.01511811,  0.129     ],\n",
       "      [30.01713386,  0.129     ],\n",
       "      [30.01914961,  0.129     ],\n",
       "      [30.02116535,  0.129     ],\n",
       "      [30.0231811 ,  0.129     ],\n",
       "      [30.02519685,  0.129     ],\n",
       "      [30.0272126 ,  0.129     ],\n",
       "      [30.02922835,  0.129     ],\n",
       "      [30.03124409,  0.129     ],\n",
       "      [30.03325984,  0.129     ],\n",
       "      [30.03527559,  0.129     ],\n",
       "      [30.03729134,  0.129     ],\n",
       "      [30.03930709,  0.129     ],\n",
       "      [30.04132283,  0.129     ],\n",
       "      [30.04333858,  0.129     ],\n",
       "      [30.04535433,  0.129     ],\n",
       "      [30.04737008,  0.129     ],\n",
       "      [30.04938583,  0.129     ],\n",
       "      [30.05140157,  0.129     ],\n",
       "      [30.05341732,  0.129     ],\n",
       "      [30.05543307,  0.129     ],\n",
       "      [30.05744882,  0.129     ],\n",
       "      [30.05946457,  0.129     ],\n",
       "      [30.06148031,  0.129     ],\n",
       "      [30.06349606,  0.129     ],\n",
       "      [30.06551181,  0.129     ],\n",
       "      [30.06752756,  0.129     ],\n",
       "      [30.06954331,  0.129     ],\n",
       "      [30.07155906,  0.129     ],\n",
       "      [30.0735748 ,  0.129     ],\n",
       "      [30.07559055,  0.129     ],\n",
       "      [30.0776063 ,  0.129     ],\n",
       "      [30.07962205,  0.129     ],\n",
       "      [30.0816378 ,  0.129     ],\n",
       "      [30.08365354,  0.129     ],\n",
       "      [30.08566929,  0.129     ],\n",
       "      [30.08768504,  0.129     ],\n",
       "      [30.08970079,  0.129     ],\n",
       "      [30.09171654,  0.129     ],\n",
       "      [30.09373228,  0.129     ],\n",
       "      [30.09574803,  0.129     ],\n",
       "      [30.09776378,  0.129     ],\n",
       "      [30.09977953,  0.129     ],\n",
       "      [30.10179528,  0.129     ],\n",
       "      [30.10381102,  0.129     ],\n",
       "      [30.10582677,  0.129     ],\n",
       "      [30.10784252,  0.129     ],\n",
       "      [30.10985827,  0.129     ],\n",
       "      [30.11187402,  0.129     ],\n",
       "      [30.11388976,  0.129     ],\n",
       "      [30.11590551,  0.129     ],\n",
       "      [30.11792126,  0.129     ],\n",
       "      [30.11993701,  0.129     ],\n",
       "      [30.12195276,  0.129     ],\n",
       "      [30.1239685 ,  0.129     ],\n",
       "      [30.12598425,  0.129     ],\n",
       "      [30.128     ,  0.129     ]])"
      ]
     },
     "metadata": {
      "after": null,
      "completed": null,
      "data": {},
      "engine_id": 1,
      "engine_uuid": "22b12d1c-c5c23f68f0e0f851d3af90e2",
      "error": null,
      "execute_input": "\nsonar.src.coordinates.data\n",
      "execute_result": {
       "data": {
        "text/plain": "Data([[30.00100787,  0.129     ],\n      [30.00302362,  0.129     ],\n      [30.00503937,  0.129     ],\n      [30.00705512,  0.129     ],\n      [30.00907087,  0.129     ],\n      [30.01108661,  0.129     ],\n      [30.01310236,  0.129     ],\n      [30.01511811,  0.129     ],\n      [30.01713386,  0.129     ],\n      [30.01914961,  0.129     ],\n      [30.02116535,  0.129     ],\n      [30.0231811 ,  0.129     ],\n      [30.02519685,  0.129     ],\n      [30.0272126 ,  0.129     ],\n      [30.02922835,  0.129     ],\n      [30.03124409,  0.129     ],\n      [30.03325984,  0.129     ],\n      [30.03527559,  0.129     ],\n      [30.03729134,  0.129     ],\n      [30.03930709,  0.129     ],\n      [30.04132283,  0.129     ],\n      [30.04333858,  0.129     ],\n      [30.04535433,  0.129     ],\n      [30.04737008,  0.129     ],\n      [30.04938583,  0.129     ],\n      [30.05140157,  0.129     ],\n      [30.05341732,  0.129     ],\n      [30.05543307,  0.129     ],\n      [30.05744882,  0.129     ],\n      [30.05946457,  0.129     ],\n      [30.06148031,  0.129     ],\n      [30.06349606,  0.129     ],\n      [30.06551181,  0.129     ],\n      [30.06752756,  0.129     ],\n      [30.06954331,  0.129     ],\n      [30.07155906,  0.129     ],\n      [30.0735748 ,  0.129     ],\n      [30.07559055,  0.129     ],\n      [30.0776063 ,  0.129     ],\n      [30.07962205,  0.129     ],\n      [30.0816378 ,  0.129     ],\n      [30.08365354,  0.129     ],\n      [30.08566929,  0.129     ],\n      [30.08768504,  0.129     ],\n      [30.08970079,  0.129     ],\n      [30.09171654,  0.129     ],\n      [30.09373228,  0.129     ],\n      [30.09574803,  0.129     ],\n      [30.09776378,  0.129     ],\n      [30.09977953,  0.129     ],\n      [30.10179528,  0.129     ],\n      [30.10381102,  0.129     ],\n      [30.10582677,  0.129     ],\n      [30.10784252,  0.129     ],\n      [30.10985827,  0.129     ],\n      [30.11187402,  0.129     ],\n      [30.11388976,  0.129     ],\n      [30.11590551,  0.129     ],\n      [30.11792126,  0.129     ],\n      [30.11993701,  0.129     ],\n      [30.12195276,  0.129     ],\n      [30.1239685 ,  0.129     ],\n      [30.12598425,  0.129     ],\n      [30.128     ,  0.129     ]])"
       },
       "execution_count": 7,
       "metadata": {}
      },
      "follow": null,
      "msg_id": null,
      "outputs": [],
      "received": null,
      "started": null,
      "status": null,
      "stderr": "",
      "stdout": "",
      "submitted": "2023-10-04T20:23:00.140535Z"
     },
     "output_type": "display_data"
    }
   ],
   "source": [
    "%%px\n",
    "\n",
    "sonar.src.coordinates.data"
   ]
  },
  {
   "cell_type": "code",
   "execution_count": 9,
   "metadata": {},
   "outputs": [
    {
     "data": {
      "text/plain": [
       "[stderr:0] Pickling of `Data` objects is not supported. Casting to `numpy.ndarray`\n"
      ]
     },
     "metadata": {},
     "output_type": "display_data"
    },
    {
     "data": {
      "text/plain": [
       "[stderr:1] Pickling of `Data` objects is not supported. Casting to `numpy.ndarray`\n"
      ]
     },
     "metadata": {},
     "output_type": "display_data"
    }
   ],
   "source": [
    "%%px\n",
    "\n",
    "src = sonar.src\n",
    "alpha = 45\n",
    "dt = sonar.model.critical_dt\n",
    "ns = src.coordinates.data.shape[0]\n",
    "\n",
    "if alpha <= 90:\n",
    "    max_latency = (\n",
    "        np.cos(np.deg2rad(alpha)) * ((ns - 1) * source_distance / v_env) / dt\n",
    "    )\n",
    "elif alpha > 90:\n",
    "    max_latency = np.cos(np.deg2rad(alpha)) * (source_distance / v_env) / dt\n",
    "\n",
    "all_data = comm.gather(src.data, root=0)\n",
    "\n",
    "if rank == 0:\n",
    "    full_data = np.concatenate(all_data, axis=1)\n",
    "\n",
    "    for i in range(full_data.shape[1]):\n",
    "        latency = -np.cos(np.deg2rad(alpha)) * (i * source_distance / v_env)\n",
    "        full_data[:, i] = np.roll(full_data[:, i], int(latency / dt + max_latency))\n",
    "    \n",
    "    divided_data = np.array_split(full_data, size, axis=1)\n",
    "else:\n",
    "    divided_data = None\n",
    "\n",
    "new_data = comm.scatter(divided_data, root=0)\n",
    "np.copyto(src.data, new_data)"
   ]
  },
  {
   "cell_type": "code",
   "execution_count": 10,
   "metadata": {},
   "outputs": [
    {
     "data": {
      "application/vnd.jupyter.widget-view+json": {
       "model_id": "eafdaa825a014c5db2bad20fc090288c",
       "version_major": 2,
       "version_minor": 0
      },
      "text/plain": [
       "%px:   0%|          | 0/2 [00:00<?, ?tasks/s]"
      ]
     },
     "metadata": {},
     "output_type": "display_data"
    },
    {
     "data": {
      "text/plain": [
       "[stderr:0] Operator `Kernel` ran in 7.57 s\n"
      ]
     },
     "metadata": {},
     "output_type": "display_data"
    },
    {
     "data": {
      "text/plain": [
       "[stderr:1] Operator `Kernel` ran in 7.57 s\n"
      ]
     },
     "metadata": {},
     "output_type": "display_data"
    },
    {
     "data": {
      "text/plain": [
       "\u001b[0;31mOut[0:9]: \u001b[0m\n",
       "PerformanceSummary([(PerfKey(name='section0', rank=0),\n",
       "                     PerfEntry(time=2e-06, gflopss=0.0, gpointss=0.0, oi=0.0, ops=0, itershapes=[])),\n",
       "                    (PerfKey(name='section0', rank=1),\n",
       "                     PerfEntry(time=2e-06, gflopss=0.0, gpointss=0.0, oi=0.0, ops=0, itershapes=[])),\n",
       "                    (PerfKey(name='section1', rank=0),\n",
       "                     PerfEntry(time=7.465028999999961, gflopss=0.0, gpointss=0.0, oi=0.0, ops=0, itershapes=[])),\n",
       "                    (PerfKey(name='section1', rank=1),\n",
       "                     PerfEntry(time=7.438919999999989, gflopss=0.0, gpointss=0.0, oi=0.0, ops=0, itershapes=[])),\n",
       "                    (PerfKey(name='section2', rank=0),\n",
       "                     PerfEntry(time=0.02769299999999515, gflopss=0.0, gpointss=0.0, oi=0.0, ops=0, itershapes=[])),\n",
       "                    (PerfKey(name='section2', rank=1),\n",
       "                     PerfEntry(time=0.04339200000000258, gflopss=0.0, gpointss=0.0, oi=0.0, ops=0, itershapes=[])),\n",
       "                    (PerfKey(name='section3', rank=0),\n",
       "                     PerfEntry(time=0.026212999999996153, gflopss=0.0, gpointss=0.0, oi=0.0, ops=0, itershapes=[])),\n",
       "                    (PerfKey(name='section3', rank=1),\n",
       "                     PerfEntry(time=0.03736300000000062, gflopss=0.0, gpointss=0.0, oi=0.0, ops=0, itershapes=[]))])"
      ]
     },
     "metadata": {
      "after": null,
      "completed": null,
      "data": {},
      "engine_id": 0,
      "engine_uuid": "5ff97c89-ddba27d8676534915e8a5932",
      "error": null,
      "execute_input": "sonar.u.data.fill(0)\nsonar.op(time=sonar.time_range.num - 2, dt=dt)\n",
      "execute_result": {
       "data": {
        "text/plain": "PerformanceSummary([(PerfKey(name='section0', rank=0),\n                     PerfEntry(time=2e-06, gflopss=0.0, gpointss=0.0, oi=0.0, ops=0, itershapes=[])),\n                    (PerfKey(name='section0', rank=1),\n                     PerfEntry(time=2e-06, gflopss=0.0, gpointss=0.0, oi=0.0, ops=0, itershapes=[])),\n                    (PerfKey(name='section1', rank=0),\n                     PerfEntry(time=7.465028999999961, gflopss=0.0, gpointss=0.0, oi=0.0, ops=0, itershapes=[])),\n                    (PerfKey(name='section1', rank=1),\n                     PerfEntry(time=7.438919999999989, gflopss=0.0, gpointss=0.0, oi=0.0, ops=0, itershapes=[])),\n                    (PerfKey(name='section2', rank=0),\n                     PerfEntry(time=0.02769299999999515, gflopss=0.0, gpointss=0.0, oi=0.0, ops=0, itershapes=[])),\n                    (PerfKey(name='section2', rank=1),\n                     PerfEntry(time=0.04339200000000258, gflopss=0.0, gpointss=0.0, oi=0.0, ops=0, itershapes=[])),\n                    (PerfKey(name='section3', rank=0),\n                     PerfEntry(time=0.026212999999996153, gflopss=0.0, gpointss=0.0, oi=0.0, ops=0, itershapes=[])),\n                    (PerfKey(name='section3', rank=1),\n                     PerfEntry(time=0.03736300000000062, gflopss=0.0, gpointss=0.0, oi=0.0, ops=0, itershapes=[]))])"
       },
       "execution_count": 9,
       "metadata": {}
      },
      "follow": null,
      "msg_id": null,
      "outputs": [],
      "received": null,
      "started": null,
      "status": null,
      "stderr": "Operator `Kernel` ran in 7.57 s\n",
      "stdout": "",
      "submitted": "2023-10-04T20:23:00.405761Z"
     },
     "output_type": "display_data"
    },
    {
     "data": {
      "text/plain": [
       "\u001b[0;31mOut[1:9]: \u001b[0m\n",
       "PerformanceSummary([(PerfKey(name='section0', rank=0),\n",
       "                     PerfEntry(time=2e-06, gflopss=0.0, gpointss=0.0, oi=0.0, ops=0, itershapes=[])),\n",
       "                    (PerfKey(name='section0', rank=1),\n",
       "                     PerfEntry(time=2e-06, gflopss=0.0, gpointss=0.0, oi=0.0, ops=0, itershapes=[])),\n",
       "                    (PerfKey(name='section1', rank=0),\n",
       "                     PerfEntry(time=7.465028999999961, gflopss=0.0, gpointss=0.0, oi=0.0, ops=0, itershapes=[])),\n",
       "                    (PerfKey(name='section1', rank=1),\n",
       "                     PerfEntry(time=7.438919999999989, gflopss=0.0, gpointss=0.0, oi=0.0, ops=0, itershapes=[])),\n",
       "                    (PerfKey(name='section2', rank=0),\n",
       "                     PerfEntry(time=0.02769299999999515, gflopss=0.0, gpointss=0.0, oi=0.0, ops=0, itershapes=[])),\n",
       "                    (PerfKey(name='section2', rank=1),\n",
       "                     PerfEntry(time=0.04339200000000258, gflopss=0.0, gpointss=0.0, oi=0.0, ops=0, itershapes=[])),\n",
       "                    (PerfKey(name='section3', rank=0),\n",
       "                     PerfEntry(time=0.026212999999996153, gflopss=0.0, gpointss=0.0, oi=0.0, ops=0, itershapes=[])),\n",
       "                    (PerfKey(name='section3', rank=1),\n",
       "                     PerfEntry(time=0.03736300000000062, gflopss=0.0, gpointss=0.0, oi=0.0, ops=0, itershapes=[]))])"
      ]
     },
     "metadata": {
      "after": null,
      "completed": null,
      "data": {},
      "engine_id": 1,
      "engine_uuid": "22b12d1c-c5c23f68f0e0f851d3af90e2",
      "error": null,
      "execute_input": "sonar.u.data.fill(0)\nsonar.op(time=sonar.time_range.num - 2, dt=dt)\n",
      "execute_result": {
       "data": {
        "text/plain": "PerformanceSummary([(PerfKey(name='section0', rank=0),\n                     PerfEntry(time=2e-06, gflopss=0.0, gpointss=0.0, oi=0.0, ops=0, itershapes=[])),\n                    (PerfKey(name='section0', rank=1),\n                     PerfEntry(time=2e-06, gflopss=0.0, gpointss=0.0, oi=0.0, ops=0, itershapes=[])),\n                    (PerfKey(name='section1', rank=0),\n                     PerfEntry(time=7.465028999999961, gflopss=0.0, gpointss=0.0, oi=0.0, ops=0, itershapes=[])),\n                    (PerfKey(name='section1', rank=1),\n                     PerfEntry(time=7.438919999999989, gflopss=0.0, gpointss=0.0, oi=0.0, ops=0, itershapes=[])),\n                    (PerfKey(name='section2', rank=0),\n                     PerfEntry(time=0.02769299999999515, gflopss=0.0, gpointss=0.0, oi=0.0, ops=0, itershapes=[])),\n                    (PerfKey(name='section2', rank=1),\n                     PerfEntry(time=0.04339200000000258, gflopss=0.0, gpointss=0.0, oi=0.0, ops=0, itershapes=[])),\n                    (PerfKey(name='section3', rank=0),\n                     PerfEntry(time=0.026212999999996153, gflopss=0.0, gpointss=0.0, oi=0.0, ops=0, itershapes=[])),\n                    (PerfKey(name='section3', rank=1),\n                     PerfEntry(time=0.03736300000000062, gflopss=0.0, gpointss=0.0, oi=0.0, ops=0, itershapes=[]))])"
       },
       "execution_count": 9,
       "metadata": {}
      },
      "follow": null,
      "msg_id": null,
      "outputs": [],
      "received": null,
      "started": null,
      "status": null,
      "stderr": "Operator `Kernel` ran in 7.57 s\n",
      "stdout": "",
      "submitted": "2023-10-04T20:23:00.405899Z"
     },
     "output_type": "display_data"
    }
   ],
   "source": [
    "%%px\n",
    "sonar.u.data.fill(0)\n",
    "sonar.op(time=sonar.time_range.num - 2, dt=dt)"
   ]
  },
  {
   "cell_type": "code",
   "execution_count": 11,
   "metadata": {},
   "outputs": [
    {
     "data": {
      "text/plain": [
       "[stderr:0] Pickling of `Data` objects is not supported. Casting to `numpy.ndarray`\n"
      ]
     },
     "metadata": {},
     "output_type": "display_data"
    },
    {
     "data": {
      "text/plain": [
       "[stderr:1] Pickling of `Data` objects is not supported. Casting to `numpy.ndarray`\n"
      ]
     },
     "metadata": {},
     "output_type": "display_data"
    },
    {
     "data": {
      "application/vnd.jupyter.widget-view+json": {
       "model_id": "9dfbd5d1eb6c46dd80aa2d346b412e2e",
       "version_major": 2,
       "version_minor": 0
      },
      "text/plain": [
       "%px:   0%|          | 0/2 [00:00<?, ?tasks/s]"
      ]
     },
     "metadata": {},
     "output_type": "display_data"
    }
   ],
   "source": [
    "%%px\n",
    "all_rec_data = comm.gather(sonar.rec.data, root=0)\n",
    "\n",
    "# If current process is root\n",
    "if rank == 0:\n",
    "    # Concatenate the gathered data if needed\n",
    "    full_rec_data = np.concatenate(all_rec_data, axis=1)\n",
    "\n",
    "    # Perform a plot operation on the full_rec_data\n",
    "    plt.plot(full_rec_data[:, 64])\n",
    "    plt.show()"
   ]
  }
 ],
 "metadata": {
  "kernelspec": {
   "display_name": "Python 3 (ipykernel)",
   "language": "python",
   "name": "python3"
  },
  "language_info": {
   "codemirror_mode": {
    "name": "ipython",
    "version": 3
   },
   "file_extension": ".py",
   "mimetype": "text/x-python",
   "name": "python",
   "nbconvert_exporter": "python",
   "pygments_lexer": "ipython3",
   "version": "3.11.5"
  },
  "orig_nbformat": 4
 },
 "nbformat": 4,
 "nbformat_minor": 2
}
