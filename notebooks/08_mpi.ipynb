{
 "cells": [
  {
   "cell_type": "markdown",
   "metadata": {},
   "source": [
    "# MPI for Sonar simulation"
   ]
  },
  {
   "cell_type": "markdown",
   "metadata": {},
   "source": [
    "## Imports"
   ]
  },
  {
   "cell_type": "code",
   "execution_count": 1,
   "metadata": {},
   "outputs": [],
   "source": [
    "import ipyparallel as ipp\n",
    "c = ipp.Client(profile='mpi')"
   ]
  },
  {
   "cell_type": "code",
   "execution_count": 2,
   "metadata": {},
   "outputs": [
    {
     "name": "stdout",
     "output_type": "stream",
     "text": [
      "[stdout:0] \n",
      "Hi, I'm rank 0\n",
      "[stdout:1] \n",
      "Hi, I'm rank 1\n"
     ]
    }
   ],
   "source": [
    "%%px --no-stream --group-outputs=engine\n",
    "\n",
    "from mpi4py import MPI\n",
    "comm = MPI.COMM_WORLD\n",
    "rank = comm.Get_rank()\n",
    "size = comm.Get_size()\n",
    "print(f\"Hi, I'm rank {rank}\")"
   ]
  },
  {
   "cell_type": "code",
   "execution_count": 3,
   "metadata": {},
   "outputs": [],
   "source": [
    "%%px --no-stream --group-outputs=engine\n",
    "\n",
    "import sys\n",
    "import os\n",
    "import matplotlib.pyplot as plt\n",
    "import numpy as np\n",
    "\n",
    "sys.path.insert(0, os.path.abspath('/home/hajta2/study/sonar-FWI/cli/'))\n",
    "from simulation.sonar import Sonar\n",
    "from simulation.utils import EllipsisBottom, gen_velocity_profile\n",
    "from simulation.sources import GaborSource"
   ]
  },
  {
   "cell_type": "code",
   "execution_count": 5,
   "metadata": {},
   "outputs": [],
   "source": [
    "%%px --no-stream --group-outputs=engine\n",
    "from devito import configuration\n",
    "configuration['mpi'] = 'full'\n",
    "configuration['language'] = 'openmp'"
   ]
  },
  {
   "cell_type": "markdown",
   "metadata": {},
   "source": [
    "## Initialization"
   ]
  },
  {
   "cell_type": "code",
   "execution_count": 6,
   "metadata": {},
   "outputs": [],
   "source": [
    "%%px --no-stream --group-outputs=engine\n",
    "\n",
    "domain_size = (60, 30)\n",
    "v_env = 1.5\n",
    "ns = 128\n",
    "source_distance = 0.002\n",
    "f0 = 5\n",
    "space_order = 8\n",
    "spatial_dist = round(v_env / f0 / 3, 6)\n",
    "dt = spatial_dist / 20"
   ]
  },
  {
   "cell_type": "code",
   "execution_count": 7,
   "metadata": {},
   "outputs": [
    {
     "data": {
      "application/vnd.jupyter.widget-view+json": {
       "model_id": "3905523a0b084b42bebc839e154a309a",
       "version_major": 2,
       "version_minor": 0
      },
      "text/plain": [
       "%px:   0%|          | 0/2 [00:00<?, ?tasks/s]"
      ]
     },
     "metadata": {},
     "output_type": "display_data"
    },
    {
     "name": "stderr",
     "output_type": "stream",
     "text": [
      "[stderr:0] \n",
      "51it [00:00, 1482.21it/s]\n",
      "Operator `initdamp` ran in 0.01 s\n",
      "[stderr:1] \n",
      "51it [00:00, 1664.37it/s]\n",
      "Operator `initdamp` ran in 0.01 s\n"
     ]
    }
   ],
   "source": [
    "%%px --no-stream --group-outputs=engine\n",
    "\n",
    "sonar = Sonar(domain_size, f0, v_env, EllipsisBottom(True), source_distance=source_distance, ns=ns, spatial_dist=spatial_dist)\n",
    "sonar.set_source()\n",
    "sonar.finalize()"
   ]
  },
  {
   "cell_type": "code",
   "execution_count": 9,
   "metadata": {},
   "outputs": [
    {
     "data": {
      "application/vnd.jupyter.widget-view+json": {
       "model_id": "4373c587c41d4ee2b4e530695b0ad8d7",
       "version_major": 2,
       "version_minor": 0
      },
      "text/plain": [
       "%px:   0%|          | 0/2 [00:00<?, ?tasks/s]"
      ]
     },
     "metadata": {},
     "output_type": "display_data"
    },
    {
     "name": "stderr",
     "output_type": "stream",
     "text": [
      "Received Keyboard Interrupt. Sending signal SIGINT to engines...\n"
     ]
    }
   ],
   "source": [
    "%%px\n",
    "\n",
    "src = sonar.src\n",
    "alpha = 45\n",
    "dt = sonar.model.critical_dt\n",
    "ns = src.coordinates.data.shape[0]\n",
    "\n",
    "if alpha <= 90:\n",
    "    max_latency = (\n",
    "        np.cos(np.deg2rad(alpha)) * ((ns - 1) * source_distance / v_env) / dt\n",
    "    )\n",
    "elif alpha > 90:\n",
    "    max_latency = np.cos(np.deg2rad(alpha)) * (source_distance / v_env) / dt\n",
    "for i in range(ns):\n",
    "    latency = -np.cos(np.deg2rad(alpha)) * (i * source_distance / v_env)\n",
    "    src.data[:, i] = np.roll(np.array(src.data[:, i]), int(latency / dt + max_latency))\n",
    "sonar.u.data.fill(0)\n",
    "sonar.op(time=sonar.time_range.num - 2, dt=dt)"
   ]
  },
  {
   "cell_type": "code",
   "execution_count": 11,
   "metadata": {},
   "outputs": [
    {
     "data": {
      "text/plain": [
       "[stderr:0] Pickling of `Data` objects is not supported. Casting to `numpy.ndarray`\n"
      ]
     },
     "metadata": {},
     "output_type": "display_data"
    },
    {
     "data": {
      "text/plain": [
       "[stderr:1] Pickling of `Data` objects is not supported. Casting to `numpy.ndarray`\n"
      ]
     },
     "metadata": {},
     "output_type": "display_data"
    },
    {
     "data": {
      "application/vnd.jupyter.widget-view+json": {
       "model_id": "9dfbd5d1eb6c46dd80aa2d346b412e2e",
       "version_major": 2,
       "version_minor": 0
      },
      "text/plain": [
       "%px:   0%|          | 0/2 [00:00<?, ?tasks/s]"
      ]
     },
     "metadata": {},
     "output_type": "display_data"
    }
   ],
   "source": [
    "%%px\n",
    "all_rec_data = comm.gather(sonar.rec.data, root=0)\n",
    "\n",
    "# If current process is root\n",
    "if rank == 0:\n",
    "    # Concatenate the gathered data if needed\n",
    "    full_rec_data = np.concatenate(all_rec_data, axis=1)\n",
    "\n",
    "    # Write the data to file"
   ]
  }
 ],
 "metadata": {
  "kernelspec": {
   "display_name": "Python 3 (ipykernel)",
   "language": "python",
   "name": "python3"
  },
  "language_info": {
   "codemirror_mode": {
    "name": "ipython",
    "version": 3
   },
   "file_extension": ".py",
   "mimetype": "text/x-python",
   "name": "python",
   "nbconvert_exporter": "python",
   "pygments_lexer": "ipython3",
   "version": "3.11.5"
  },
  "orig_nbformat": 4
 },
 "nbformat": 4,
 "nbformat_minor": 2
}
