{
 "cells": [
  {
   "cell_type": "markdown",
   "metadata": {},
   "source": [
    "# Adding multiple sources to the problem setup\n",
    "\n",
    "This notebook uses the water tank model from the previous notebook and showcase a possible solution to generating source positions and mesurement setups."
   ]
  },
  {
   "cell_type": "code",
   "execution_count": null,
   "id": "e384a517",
   "metadata": {},
   "outputs": [],
   "source": [
    "\n",
    "import numpy as np\n",
    "import numpy.typing as npt\n",
    "import math\n",
    "import matplotlib.pyplot as plt \n",
    "from examples.seismic import Receiver\n",
    "from examples.seismic import RickerSource\n",
    "from examples.seismic import Model, plot_velocity, TimeAxis\n",
    "from devito import TimeFunction\n",
    "from devito import Eq, solve\n",
    "from devito import Operator\n",
    "from devito import ConditionalDimension\n"
   ]
  },
  {
   "cell_type": "markdown",
   "id": "0431f7a7",
   "metadata": {},
   "source": [
    "# Grid setup\n",
    "\n",
    "Set velocity model and global parameters for the water tank."
   ]
  },
  {
   "cell_type": "code",
   "execution_count": null,
   "id": "454dc60b",
   "metadata": {},
   "outputs": [],
   "source": [
    "\n",
    "nx = 101\n",
    "nz = 101\n",
    "nb = 10\n",
    "shape = (nx, nz)\n",
    "spacing = (.003, .003) #30x30 cm\n",
    "origin = (0., 0.)\n",
    "glass = 5\n",
    "# Define a velocity profile. The velocity is in km/s\n",
    "v = np.empty(shape, dtype=np.float32)\n",
    "v[:, :] = 1.5 # v in distilled water 1496.7 m/s\n",
    "v[:, -glass:] = 5.64 # v in glass 5640 m/s\n",
    "v[:glass, :] = 5.64 # v in glass 5640 m/s\n",
    "v[-glass:, :] = 5.64 # v in glass 5640 m/s\n",
    "# Define an object's velocity profile\n",
    "r = 15\n",
    "a, b = shape[0] / 2, shape[1] - r - glass\n",
    "y, x = np.ogrid[-a:shape[0]-a, -b:shape[1]-b]\n",
    "v[x*x + y*y <= r*r] = 3.24\n",
    "\n",
    "model = Model(vp=v, origin=origin, shape=shape, spacing=spacing,\n",
    "              space_order=2, nbl=10, bcs=\"damp\")"
   ]
  },
  {
   "cell_type": "markdown",
   "id": "7112e022",
   "metadata": {},
   "source": [
    "# Define the positions of the sources and receivers"
   ]
  },
  {
   "cell_type": "code",
   "execution_count": null,
   "id": "61832edb",
   "metadata": {},
   "outputs": [],
   "source": [
    "\n",
    "def srcPositions(cx: float, cy:float, alpha:float, ns:int, sdist:float) -> np.typing.NDArray:\n",
    "    assert alpha >= 0 and alpha < 180\n",
    "    assert ns > 0\n",
    "    dx = sdist * math.sin(math.pi / 180 * alpha)\n",
    "    dy = sdist * math.cos(math.pi / 180 * alpha)\n",
    "\n",
    "    res = np.zeros((ns, 2))\n",
    "    res[:, 0] = np.linspace(cx - dx * (ns - 1) / 2, cx + dx * (ns - 1) / 2, num = ns)\n",
    "    res[:, 1] = np.linspace(cy - dy * (ns - 1) / 2, cy + dy * (ns - 1) / 2, num = ns)\n",
    "    return res"
   ]
  },
  {
   "cell_type": "code",
   "execution_count": null,
   "id": "7fe450cc",
   "metadata": {
    "lines_to_next_cell": 0
   },
   "outputs": [],
   "source": [
    "\n",
    "# Set time range, source, source coordinates and receiver coordinates\n",
    "t0 = 0.  # Simulation starts a t=0\n",
    "tn = 2000.  # Simulation lasts tn milliseconds\n",
    "dt = model.critical_dt  # Time step from model grid spacing\n",
    "time_range = TimeAxis(start=t0, stop=tn, step=dt)\n",
    "nt = time_range.num  # number of time steps\n",
    "\n",
    "f0 = 0.010  # Source peak frequency is 10Hz (0.010 kHz)\n",
    "\n",
    "ns = 5 # number of sources\n",
    "nr = 101 # number of receivers\n",
    "depth = .0001\n",
    "source_distance = .01 # spacing of the sources in meters\n",
    "alpha = 90 # angle of the sources to the water surface (0° - 180°) 90° means sources are parallel with the water surface\n",
    "cx = model.domain_size[0] * 0.5\n",
    "cy = (ns - 1) / 2 * source_distance\n",
    "pos = srcPositions(cx, cy, alpha, ns, source_distance)\n",
    "src = RickerSource(\n",
    "    name='src',\n",
    "    grid=model.grid,\n",
    "    f0=f0,\n",
    "    time_range=time_range,\n",
    "    npoint=ns)  \n",
    "\n",
    "\n",
    "src.coordinates.data[:] = pos[:]\n",
    "\n",
    "rec = Receiver(\n",
    "    name='rec',\n",
    "    grid=model.grid,\n",
    "    npoint=nr,\n",
    "    time_range=time_range)  # new\n",
    "rec.coordinates.data[:, 0] = np.linspace(0, model.domain_size[0], \n",
    "                                         num=nr)\n",
    "rec.coordinates.data[:, 1] = depth\n",
    "\n",
    "\n",
    "plot_velocity(model, source=src.coordinates.data,\n",
    "              receiver=rec.coordinates.data[::4, :])\n"
   ]
  },
  {
   "cell_type": "markdown",
   "id": "452a512f",
   "metadata": {},
   "source": []
  }
 ],
 "metadata": {
  "interpreter": {
   "hash": "e7370f93d1d0cde622a1f8e1c04877d8463912d04d973331ad4851f04de6915a"
  },
  "kernelspec": {
   "display_name": "Python 3 (ipykernel)",
   "language": "python",
   "name": "python3"
  },
  "language_info": {
   "codemirror_mode": {
    "name": "ipython",
    "version": 3
   },
   "file_extension": ".py",
   "mimetype": "text/x-python",
   "name": "python",
   "nbconvert_exporter": "python",
   "pygments_lexer": "ipython3",
   "version": "3.10.2"
  }
 },
 "nbformat": 4,
 "nbformat_minor": 2
}
